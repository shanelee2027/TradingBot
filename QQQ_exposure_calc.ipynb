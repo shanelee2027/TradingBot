{
 "cells": [
  {
   "cell_type": "code",
   "execution_count": 437,
   "metadata": {},
   "outputs": [],
   "source": [
    "import alpaca_trade_api as alpaca\n",
    "from alpaca.trading.client import TradingClient\n",
    "from dotenv import load_dotenv\n",
    "import os\n",
    "import pandas as pd\n",
    "import talib as ta\n",
    "import matplotlib.pyplot as plt\n",
    "import datetime as dt\n",
    "import statistics\n",
    "from sklearn.linear_model import LinearRegression\n",
    "import requests"
   ]
  },
  {
   "cell_type": "code",
   "execution_count": 438,
   "metadata": {},
   "outputs": [],
   "source": [
    "paper = True\n",
    "\n",
    "# initialize API from API keys in .env\n",
    "\n",
    "load_dotenv('.env', override=True)\n",
    "\n",
    "api_key = os.environ['APCA-API-PAPER-KEY-ID']\n",
    "api_secret_key = os.environ['APCA-API-PAPER-SECRET-KEY']\n",
    "api_base_url = 'https://paper-api.alpaca.markets/v2'\n",
    "\n",
    "api = alpaca.REST(api_key, api_secret_key, api_base_url)\n",
    "trading_client = TradingClient(api_key, api_secret_key, paper=paper)\n",
    "account = trading_client.get_account()"
   ]
  },
  {
   "cell_type": "code",
   "execution_count": 439,
   "metadata": {},
   "outputs": [],
   "source": [
    "def get_beta(ticker, start_date='2020-01-01'):\n",
    "    bars = api.get_bars(ticker, alpaca.TimeFrame.Day, start_date, adjustment='split').df\n",
    "    QQQ_bars = api.get_bars(\"QQQ\", alpaca.TimeFrame.Day, start_date, adjustment='split').df\n",
    "    bars['change'] = bars['close'].diff()\n",
    "    QQQ_bars['change'] = QQQ_bars['close'].diff()\n",
    "    bars['percent change'] = bars['change'] / bars['close'] * 100\n",
    "    QQQ_bars['percent change'] = QQQ_bars['change'] / QQQ_bars['close'] * 100\n",
    "    bars = bars.dropna()\n",
    "    QQQ_bars = QQQ_bars.dropna()\n",
    "\n",
    "    \n",
    "    # Assuming df1 and df2 are your dataframes and 'col1' and 'col2' are the columns\n",
    "    x = QQQ_bars['percent change'].values.reshape(-1, 1)  # Independent variable (reshape for 2D array)\n",
    "    y = bars['percent change'].values  # Dependent variable\n",
    "\n",
    "    # Initialize the linear regression model\n",
    "    model = LinearRegression()\n",
    "\n",
    "    # Fit the model\n",
    "    model.fit(x, y)\n",
    "\n",
    "    # Get the slope (coefficient) and intercept of the regression line\n",
    "    slope = model.coef_[0]\n",
    "    return slope\n",
    "\n",
    "def get_greeks(symbol):\n",
    "    url = \"https://data.alpaca.markets/v1beta1/options/snapshots?symbols=\" + symbol + \"&feed=indicative&limit=100\"\n",
    "\n",
    "    headers = {\n",
    "        \"accept\": \"application/json\",\n",
    "        \"APCA-API-KEY-ID\": api_key,\n",
    "        \"APCA-API-SECRET-KEY\": api_secret_key\n",
    "    }\n",
    "\n",
    "    response = requests.get(url, headers=headers)\n",
    "    data = response.json()\n",
    "    # print(data)\n",
    "    return data['snapshots'][symbol]['greeks']\n",
    "\n",
    "def get_current_price(symbol):\n",
    "    url = \"https://data.alpaca.markets/v2/stocks/quotes/latest?symbols=\" + symbol + \"&feed=iex\"\n",
    "\n",
    "    headers = {\n",
    "        \"accept\": \"application/json\",\n",
    "        \"APCA-API-KEY-ID\": api_key,\n",
    "        \"APCA-API-SECRET-KEY\": api_secret_key\n",
    "    }\n",
    "\n",
    "    response = requests.get(url, headers=headers)\n",
    "    data = response.json()\n",
    "    return (data['quotes'][symbol]['ap'] + data['quotes'][symbol]['bp']) / 2\n",
    "\n",
    "def get_non_numeric_prefix(string):\n",
    "    prefix = \"\"\n",
    "    for char in string:\n",
    "        if not char.isnumeric():\n",
    "            prefix += char\n",
    "        else:\n",
    "            break\n",
    "    return prefix\n",
    "\n",
    "def get_QQQ_exposure():\n",
    "    positions = trading_client.get_all_positions()\n",
    "    QQQ_delta_exposure = 0\n",
    "    QQQ_delta_hedge = 0\n",
    "    QQQ_gamma_exposure = 0\n",
    "    QQQ_gamma_hedge = 0\n",
    "\n",
    "    QQQ_price = get_current_price('QQQ')\n",
    "    for position in positions:\n",
    "        symbol = position.symbol\n",
    "        qty = position.qty\n",
    "        ticker = get_non_numeric_prefix(symbol)\n",
    "        if ticker == 'QQQ':\n",
    "            greeks = get_greeks(symbol)\n",
    "            delta = greeks['delta']\n",
    "            gamma = greeks['gamma']\n",
    "            QQQ_delta_hedge += float(qty) * delta\n",
    "            QQQ_gamma_hedge += float(qty) * gamma\n",
    "            continue\n",
    "        price = get_current_price(ticker)\n",
    "        greeks = get_greeks(symbol)\n",
    "        delta = greeks['delta']\n",
    "        gamma = greeks['gamma']\n",
    "        beta = get_beta(ticker)\n",
    "        QQQ_delta = float(qty) * delta * beta * price / QQQ_price \n",
    "        QQQ_delta_exposure += QQQ_delta\n",
    "        QQQ_gamma = float(qty) * gamma * beta * beta * price * price / QQQ_price / QQQ_price\n",
    "        QQQ_gamma_exposure += QQQ_gamma\n",
    "    print(f\"Total QQQ Delta Exposure: {QQQ_delta_exposure}\")\n",
    "    print(f\"Total QQQ Delta Hedge: {QQQ_delta_hedge}\")\n",
    "    print()\n",
    "    print(f\"Total QQQ Gamma Exposure: {QQQ_gamma_exposure}\")\n",
    "    print(f\"Total QQQ Gamma Hedge: {QQQ_gamma_hedge}\")\n",
    "    print()\n",
    "    print(f\"Combined QQQ Delta Exposure: {QQQ_delta_exposure + QQQ_delta_hedge}\")\n",
    "    print(f\"Combined QQQ Gamma Exposure: {QQQ_gamma_exposure + QQQ_gamma_hedge}\")\n",
    "    print()\n",
    "    print(f\"2% (${\"{:.2f}\".format(QQQ_price * 0.02)}) move up: \" + f\"${\"{:.2f}\".format(QQQ_price * 2 * (QQQ_delta_exposure + QQQ_delta_hedge))} + \" \n",
    "                        + f\"${\"{:.2f}\".format(50 * ((QQQ_price * 0.02) ** 2) * (QQQ_gamma_exposure + QQQ_gamma_hedge))} = \"\n",
    "                        + f\"${\"{:.2f}\".format(QQQ_price * 2 * (QQQ_delta_exposure + QQQ_delta_hedge) \\\n",
    "                            + 50 * ((QQQ_price * 0.02) ** 2) * (QQQ_gamma_exposure + QQQ_gamma_hedge))}\")\n",
    "\n",
    "    print(f\"2% (${\"{:.2f}\".format(QQQ_price * 0.02)}) move down: \" + f\"${\"{:.2f}\".format(QQQ_price * -2 * (QQQ_delta_exposure + QQQ_delta_hedge))} + \" \n",
    "                        + f\"${\"{:.2f}\".format(50 * ((QQQ_price * 0.02) ** 2) * (QQQ_gamma_exposure + QQQ_gamma_hedge))} = \"\n",
    "                        + f\"${\"{:.2f}\".format(QQQ_price * -2 * (QQQ_delta_exposure + QQQ_delta_hedge) \\\n",
    "                            + 50 * ((QQQ_price * 0.02) ** 2) * (QQQ_gamma_exposure + QQQ_gamma_hedge))}\")\n",
    "    print()\n",
    "\n",
    "def get_equivalent_equity():\n",
    "    positions = trading_client.get_all_positions()\n",
    "    equities = {}\n",
    "    for position in positions:\n",
    "        symbol = position.symbol\n",
    "        qty = position.qty\n",
    "        ticker = get_non_numeric_prefix(symbol)\n",
    "        price = get_current_price(ticker)\n",
    "        greeks = get_greeks(symbol)\n",
    "        delta = greeks['delta']\n",
    "        equities[ticker] = equities.get(ticker, 0) + (float(qty) * price * 100 * delta)\n",
    "    for ticker in equities:\n",
    "        print(f\"{ticker}: ${\"{:.2f}\".format(equities[ticker])}\")\n",
    "    print()"
   ]
  },
  {
   "cell_type": "code",
   "execution_count": 440,
   "metadata": {},
   "outputs": [
    {
     "name": "stdout",
     "output_type": "stream",
     "text": [
      "Total QQQ Delta Exposure: 0.6066900340414894\n",
      "Total QQQ Delta Hedge: -0.5579\n",
      "\n",
      "Total QQQ Gamma Exposure: -0.032179472078465096\n",
      "Total QQQ Gamma Hedge: 0.0065\n",
      "\n",
      "Combined QQQ Delta Exposure: 0.048790034041489405\n",
      "Combined QQQ Gamma Exposure: -0.025679472078465097\n",
      "\n",
      "2% ($10.57) move up: $51.56 + $-143.41 = $-91.84\n",
      "2% ($10.57) move down: $-51.56 + $-143.41 = $-194.97\n",
      "\n",
      "AAPL: $7742.93\n",
      "GOOGL: $8193.18\n",
      "MSFT: $14858.45\n",
      "QQQ: $-29485.56\n",
      "\n"
     ]
    }
   ],
   "source": [
    "get_QQQ_exposure()\n",
    "get_equivalent_equity()"
   ]
  },
  {
   "cell_type": "code",
   "execution_count": null,
   "metadata": {},
   "outputs": [],
   "source": []
  },
  {
   "cell_type": "code",
   "execution_count": null,
   "metadata": {},
   "outputs": [],
   "source": []
  },
  {
   "cell_type": "code",
   "execution_count": null,
   "metadata": {},
   "outputs": [],
   "source": []
  },
  {
   "cell_type": "code",
   "execution_count": null,
   "metadata": {},
   "outputs": [],
   "source": []
  },
  {
   "cell_type": "code",
   "execution_count": null,
   "metadata": {},
   "outputs": [],
   "source": []
  },
  {
   "cell_type": "code",
   "execution_count": null,
   "metadata": {},
   "outputs": [],
   "source": []
  },
  {
   "cell_type": "code",
   "execution_count": null,
   "metadata": {},
   "outputs": [],
   "source": []
  },
  {
   "cell_type": "code",
   "execution_count": null,
   "metadata": {},
   "outputs": [],
   "source": []
  },
  {
   "cell_type": "code",
   "execution_count": null,
   "metadata": {},
   "outputs": [],
   "source": []
  },
  {
   "cell_type": "code",
   "execution_count": null,
   "metadata": {},
   "outputs": [],
   "source": []
  },
  {
   "cell_type": "code",
   "execution_count": null,
   "metadata": {},
   "outputs": [],
   "source": []
  },
  {
   "cell_type": "code",
   "execution_count": null,
   "metadata": {},
   "outputs": [],
   "source": []
  },
  {
   "cell_type": "code",
   "execution_count": null,
   "metadata": {},
   "outputs": [],
   "source": []
  },
  {
   "cell_type": "code",
   "execution_count": null,
   "metadata": {},
   "outputs": [],
   "source": []
  },
  {
   "cell_type": "code",
   "execution_count": null,
   "metadata": {},
   "outputs": [],
   "source": []
  },
  {
   "cell_type": "code",
   "execution_count": null,
   "metadata": {},
   "outputs": [],
   "source": []
  },
  {
   "cell_type": "code",
   "execution_count": null,
   "metadata": {},
   "outputs": [],
   "source": []
  },
  {
   "cell_type": "code",
   "execution_count": null,
   "metadata": {},
   "outputs": [],
   "source": []
  },
  {
   "cell_type": "code",
   "execution_count": null,
   "metadata": {},
   "outputs": [],
   "source": []
  },
  {
   "cell_type": "code",
   "execution_count": null,
   "metadata": {},
   "outputs": [],
   "source": []
  },
  {
   "cell_type": "code",
   "execution_count": null,
   "metadata": {},
   "outputs": [],
   "source": []
  }
 ],
 "metadata": {
  "kernelspec": {
   "display_name": ".venv",
   "language": "python",
   "name": "python3"
  },
  "language_info": {
   "codemirror_mode": {
    "name": "ipython",
    "version": 3
   },
   "file_extension": ".py",
   "mimetype": "text/x-python",
   "name": "python",
   "nbconvert_exporter": "python",
   "pygments_lexer": "ipython3",
   "version": "3.12.0"
  }
 },
 "nbformat": 4,
 "nbformat_minor": 2
}
