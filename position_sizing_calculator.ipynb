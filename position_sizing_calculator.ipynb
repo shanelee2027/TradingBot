{
 "cells": [
  {
   "cell_type": "code",
   "execution_count": 1,
   "metadata": {},
   "outputs": [],
   "source": [
    "import alpaca_trade_api as alpaca\n",
    "from dotenv import load_dotenv\n",
    "import os\n",
    "import pandas as pd\n",
    "import talib as ta\n",
    "import matplotlib.pyplot as plt\n",
    "import datetime as dt\n",
    "import statistics\n",
    "from sklearn.linear_model import LinearRegression\n",
    "import requests"
   ]
  },
  {
   "cell_type": "code",
   "execution_count": 2,
   "metadata": {},
   "outputs": [],
   "source": [
    "# initialize API from API keys in .env\n",
    "load_dotenv()\n",
    "api_key = os.environ['APCA-API-KEY-ID']\n",
    "api_secret_key = os.environ['APCA-API-SECRET-KEY']\n",
    "api_base_url = 'https://paper-api.alpaca.markets/v2'\n",
    "api = alpaca.REST(api_key, api_secret_key, api_base_url)"
   ]
  },
  {
   "cell_type": "code",
   "execution_count": 3,
   "metadata": {},
   "outputs": [],
   "source": [
    "def regression(ticker, start_date='2020-01-01'):\n",
    "    bars = api.get_bars(ticker, alpaca.TimeFrame.Day, start_date, adjustment='split').df\n",
    "    SPY_bars = api.get_bars(\"SPY\", alpaca.TimeFrame.Day, start_date, adjustment='split').df\n",
    "    bars['change'] = bars['close'].diff()\n",
    "    SPY_bars['change'] = SPY_bars['close'].diff()\n",
    "    bars['percent change'] = bars['change'] / bars['close'] * 100\n",
    "    SPY_bars['percent change'] = SPY_bars['change'] / SPY_bars['close'] * 100\n",
    "    bars = bars.dropna()\n",
    "    SPY_bars = SPY_bars.dropna()\n",
    "\n",
    "    # Assuming df1 and df2 are your dataframes and 'col1' and 'col2' are the columns\n",
    "    x = SPY_bars['percent change'].values.reshape(-1, 1)  # Independent variable (reshape for 2D array)\n",
    "    y = bars['percent change'].values  # Dependent variable\n",
    "\n",
    "    # Initialize the linear regression model\n",
    "    model = LinearRegression()\n",
    "\n",
    "    # Fit the model\n",
    "    model.fit(x, y)\n",
    "\n",
    "    # Get the slope (coefficient) and intercept of the regression line\n",
    "    slope = model.coef_[0]\n",
    "    intercept = model.intercept_\n",
    "\n",
    "    plt.scatter(SPY_bars['percent change'], bars['percent change'])\n",
    "\n",
    "    print(f\"Slope: {slope}\")\n",
    "    print(f\"Intercept: {intercept}\")\n",
    "\n",
    "    # Optionally, you can get the R^2 value to evaluate the model\n",
    "    r_squared = model.score(x, y)\n",
    "    print(f\"R-squared: {r_squared}\")\n",
    "\n",
    "def get_position_sizing(ticker, start_date='2024-01-01', SPY_equivalent=7000):\n",
    "    bars = api.get_bars(ticker, alpaca.TimeFrame.Day, start_date, adjustment='split').df\n",
    "    #display(bars)\n",
    "    SPY_bars = api.get_bars(\"SPY\", alpaca.TimeFrame.Day, start_date, adjustment='split').df\n",
    "    bars['change'] = bars['close'].diff()\n",
    "    SPY_bars['change'] = SPY_bars['close'].diff()\n",
    "    bars['percent change'] = bars['change'] / bars['close'] * 100\n",
    "    SPY_bars['percent change'] = SPY_bars['change'] / SPY_bars['close'] * 100\n",
    "    bars = bars.dropna()\n",
    "    SPY_bars = SPY_bars.dropna()\n",
    "    display(bars['percent change'].describe())\n",
    "    # print((bars['percent change'].abs().median()))\n",
    "    display(SPY_bars['percent change'].describe())\n",
    "    # print((SPY_bars['percent change'].abs().median()))\n",
    "    v1 = bars['percent change'].describe()['std']\n",
    "    v2 = SPY_bars['percent change'].describe()['std']\n",
    "    # v1 = (bars['percent change'].abs().median())\n",
    "    # v2 = (SPY_bars['percent change'].abs().median())\n",
    "    std_ratio = v1 / v2\n",
    "    std_ratio\n",
    "    return SPY_equivalent / std_ratio\n",
    "\n",
    "def both(ticker, start_date='2024-01-01', SPY_equivalent=7000):\n",
    "    regression(ticker, start_date)\n",
    "    return get_position_sizing(ticker, start_date, SPY_equivalent)"
   ]
  },
  {
   "cell_type": "code",
   "execution_count": 4,
   "metadata": {},
   "outputs": [
    {
     "name": "stdout",
     "output_type": "stream",
     "text": [
      "Slope: 1.6586878307455397\n",
      "Intercept: 0.024773183050541547\n",
      "R-squared: 0.3963671275312384\n"
     ]
    },
    {
     "data": {
      "text/plain": [
       "count    280.000000\n",
       "mean       0.166787\n",
       "std        2.090617\n",
       "min      -10.246732\n",
       "25%       -0.995075\n",
       "50%        0.103703\n",
       "75%        1.436357\n",
       "max       10.059660\n",
       "Name: percent change, dtype: float64"
      ]
     },
     "metadata": {},
     "output_type": "display_data"
    },
    {
     "data": {
      "text/plain": [
       "count    280.000000\n",
       "mean       0.085618\n",
       "std        0.793522\n",
       "min       -3.071911\n",
       "25%       -0.303564\n",
       "50%        0.110941\n",
       "75%        0.573664\n",
       "max        2.426232\n",
       "Name: percent change, dtype: float64"
      ]
     },
     "metadata": {},
     "output_type": "display_data"
    },
    {
     "data": {
      "text/plain": [
       "'$2656.9427479903743'"
      ]
     },
     "execution_count": 4,
     "metadata": {},
     "output_type": "execute_result"
    },
    {
     "data": {
      "image/png": "[encoded data removed]",
      "text/plain": [
       "<Figure size 640x480 with 1 Axes>"
      ]
     },
     "metadata": {},
     "output_type": "display_data"
    }
   ],
   "source": [
    "f\"${both('KKR', start_date='2024-01-01')}\""
   ]
  },
  {
   "cell_type": "code",
   "execution_count": null,
   "metadata": {},
   "outputs": [],
   "source": []
  },
  {
   "cell_type": "code",
   "execution_count": null,
   "metadata": {},
   "outputs": [],
   "source": []
  },
  {
   "cell_type": "code",
   "execution_count": null,
   "metadata": {},
   "outputs": [],
   "source": []
  }
 ],
 "metadata": {
  "kernelspec": {
   "display_name": ".venv",
   "language": "python",
   "name": "python3"
  },
  "language_info": {
   "codemirror_mode": {
    "name": "ipython",
    "version": 3
   },
   "file_extension": ".py",
   "mimetype": "text/x-python",
   "name": "python",
   "nbconvert_exporter": "python",
   "pygments_lexer": "ipython3",
   "version": "3.12.0"
  }
 },
 "nbformat": 4,
 "nbformat_minor": 2
}
