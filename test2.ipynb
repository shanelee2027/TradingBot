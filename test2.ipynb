{
 "cells": [
  {
   "cell_type": "code",
   "execution_count": null,
   "metadata": {},
   "outputs": [],
   "source": [
    "import alpaca_trade_api as alpaca\n",
    "from dotenv import load_dotenv\n",
    "import os\n",
    "from alpaca.trading.client import TradingClient\n",
    "from alpaca.trading.requests import MarketOrderRequest\n",
    "from alpaca.trading.enums import OrderSide, TimeInForce\n",
    "import pandas as pd\n",
    "import matplotlib.pyplot as plt\n",
    "import datetime as dt\n",
    "import time"
   ]
  },
  {
   "cell_type": "code",
   "execution_count": null,
   "metadata": {},
   "outputs": [],
   "source": [
    "# initialize API from API keys in .env\n",
    "load_dotenv()\n",
    "api_key = os.environ['APCA-API-KEY-ID']\n",
    "api_secret_key = os.environ['APCA-API-SECRET-KEY']\n",
    "api_base_url = 'https://paper-api.alpaca.markets'\n",
    "api = alpaca.REST(api_key, api_secret_key, api_base_url)\n",
    "trading_client = TradingClient(api_key, api_secret_key, paper=True)"
   ]
  },
  {
   "cell_type": "code",
   "execution_count": null,
   "metadata": {},
   "outputs": [],
   "source": [
    "account = api.get_account()\n",
    "print(account)"
   ]
  },
  {
   "cell_type": "code",
   "execution_count": null,
   "metadata": {},
   "outputs": [],
   "source": [
    "def get_SP500():\n",
    "    return pd.read_html('https://en.wikipedia.org/wiki/List_of_S%26P_500_companies')[0]"
   ]
  },
  {
   "cell_type": "code",
   "execution_count": null,
   "metadata": {},
   "outputs": [],
   "source": [
    "def market_buy_order(ticker, quantity):\n",
    "    time.sleep(1)\n",
    "    market_order_data = MarketOrderRequest(\n",
    "                        symbol=ticker,\n",
    "                        qty=quantity,\n",
    "                        side=OrderSide.BUY,\n",
    "                        time_in_force=TimeInForce.DAY\n",
    "                        )\n",
    "    market_order = trading_client.submit_order(order_data=market_order_data)\n",
    "    print(market_order)"
   ]
  },
  {
   "cell_type": "code",
   "execution_count": null,
   "metadata": {},
   "outputs": [],
   "source": [
    "def market_sell_order(ticker, quantity):\n",
    "    time.sleep(1)\n",
    "    market_order_data = MarketOrderRequest(\n",
    "                        symbol=ticker,\n",
    "                        qty=quantity,\n",
    "                        side=OrderSide.SELL,\n",
    "                        time_in_force=TimeInForce.DAY\n",
    "                        )\n",
    "    market_order = trading_client.submit_order(order_data=market_order_data)\n",
    "    print(market_order)"
   ]
  },
  {
   "cell_type": "code",
   "execution_count": null,
   "metadata": {},
   "outputs": [],
   "source": [
    "SP500 = get_SP500()\n",
    "SP500"
   ]
  },
  {
   "cell_type": "code",
   "execution_count": null,
   "metadata": {},
   "outputs": [],
   "source": [
    "now = dt.datetime.now(dt.timezone.utc)\n",
    "todays_date = now.strftime(\"%Y-%m-%d\")\n",
    "market_open_datetime = todays_date + \"T14:40:00Z\"\n",
    "current_datetime = now.strftime(\"%Y-%m-%dT%H:%M:%S.%fZ\")\n",
    "if now.hour >= 21:\n",
    "    current_datetime = todays_date + \"T20:50:00Z\"\n",
    "print(todays_date)\n",
    "print(market_open_datetime)\n",
    "print(current_datetime)\n",
    "today_SPY_bars = api.get_bars(\"JPM\", alpaca.TimeFrame(1, alpaca.TimeFrameUnit.Minute), market_open_datetime, current_datetime, feed='iex').df\n",
    "\n",
    "today_SPY_bars"
   ]
  },
  {
   "cell_type": "code",
   "execution_count": null,
   "metadata": {},
   "outputs": [],
   "source": [
    "close_min = today_SPY_bars['close'].min()\n",
    "support_threshold = 0.001\n",
    "lowest_bars = today_SPY_bars[today_SPY_bars['close'] <= close_min * (1 + support_threshold)]\n",
    "print(close_min)\n",
    "lowest_bars"
   ]
  },
  {
   "cell_type": "code",
   "execution_count": null,
   "metadata": {},
   "outputs": [],
   "source": [
    "# for i in range(5):\n",
    "#     market_buy_order('SPY', 1)\n",
    "#     market_sell_order('SPY', 1)"
   ]
  },
  {
   "cell_type": "code",
   "execution_count": null,
   "metadata": {},
   "outputs": [],
   "source": [
    "# check if the current price is near a support level from at least 30 minutes ago"
   ]
  },
  {
   "cell_type": "code",
   "execution_count": null,
   "metadata": {},
   "outputs": [],
   "source": [
    "print(today_SPY_bars.tail(1).index)\n",
    "today_SPY_bars.tail(1)"
   ]
  },
  {
   "cell_type": "code",
   "execution_count": null,
   "metadata": {},
   "outputs": [],
   "source": [
    "support_threshold = 0.001 # 0.1%\n",
    "\n",
    "for ticker in SP500['Symbol']:\n",
    "    time.sleep(0.05)\n",
    "    bars = api.get_bars(ticker, alpaca.TimeFrame(1, alpaca.TimeFrameUnit.Minute), market_open_datetime, current_datetime, feed='iex').df\n",
    "    close_min = bars['close'].min()\n",
    "    support_line = close_min * (1 + support_threshold)\n",
    "    if bars.tail(1).iloc[0]['close'] <= support_line:\n",
    "        print(ticker)\n",
    "    # lowest_bars = today_SPY_bars[today_SPY_bars['close'] <= close_min * (1 + support_threshold)]\n",
    "    # print(close_min)\n",
    "    # lowest_bars"
   ]
  },
  {
   "cell_type": "code",
   "execution_count": null,
   "metadata": {},
   "outputs": [],
   "source": []
  },
  {
   "cell_type": "code",
   "execution_count": null,
   "metadata": {},
   "outputs": [],
   "source": []
  },
  {
   "cell_type": "code",
   "execution_count": null,
   "metadata": {},
   "outputs": [],
   "source": []
  }
 ],
 "metadata": {
  "kernelspec": {
   "display_name": "Python 3",
   "language": "python",
   "name": "python3"
  },
  "language_info": {
   "codemirror_mode": {
    "name": "ipython",
    "version": 3
   },
   "file_extension": ".py",
   "mimetype": "text/x-python",
   "name": "python",
   "nbconvert_exporter": "python",
   "pygments_lexer": "ipython3",
   "version": "3.11.9"
  }
 },
 "nbformat": 4,
 "nbformat_minor": 2
}
