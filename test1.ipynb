{
 "cells": [
  {
   "cell_type": "code",
   "execution_count": null,
   "metadata": {},
   "outputs": [],
   "source": [
    "import alpaca_trade_api as alpaca\n",
    "from dotenv import load_dotenv\n",
    "import os"
   ]
  },
  {
   "cell_type": "code",
   "execution_count": null,
   "metadata": {},
   "outputs": [],
   "source": [
    "# initialize API from API keys in .env\n",
    "load_dotenv()\n",
    "api_key = os.environ['APCA-API-KEY-ID']\n",
    "api_secret_key = os.environ['APCA-API-SECRET-KEY']\n",
    "api_base_url = 'https://paper-api.alpaca.markets'\n",
    "api = alpaca.REST(api_key, api_secret_key, api_base_url)"
   ]
  },
  {
   "cell_type": "code",
   "execution_count": null,
   "metadata": {},
   "outputs": [],
   "source": [
    "account = api.get_account()\n",
    "print(account)"
   ]
  },
  {
   "cell_type": "code",
   "execution_count": null,
   "metadata": {},
   "outputs": [],
   "source": [
    "from alpaca.trading.client import TradingClient\n",
    "from alpaca.trading.requests import MarketOrderRequest\n",
    "from alpaca.trading.enums import OrderSide, TimeInForce"
   ]
  },
  {
   "cell_type": "code",
   "execution_count": null,
   "metadata": {},
   "outputs": [],
   "source": [
    "trading_client = TradingClient(api_key, api_secret_key, paper=True)"
   ]
  },
  {
   "cell_type": "code",
   "execution_count": null,
   "metadata": {},
   "outputs": [],
   "source": [
    "# test\n",
    "# market_order_data = MarketOrderRequest(\n",
    "#                     symbol=\"VOO\",\n",
    "#                     qty=0.5,\n",
    "#                     side=OrderSide.BUY,\n",
    "#                     time_in_force=TimeInForce.DAY\n",
    "#                     )\n",
    "\n",
    "# market_order = trading_client.submit_order(order_data=market_order_data)"
   ]
  },
  {
   "cell_type": "code",
   "execution_count": null,
   "metadata": {},
   "outputs": [],
   "source": [
    "import pandas as pd\n",
    "import talib as ta\n",
    "import matplotlib.pyplot as plt"
   ]
  },
  {
   "cell_type": "code",
   "execution_count": null,
   "metadata": {},
   "outputs": [],
   "source": [
    "\n",
    "print(len(ta.get_functions()))"
   ]
  },
  {
   "cell_type": "code",
   "execution_count": null,
   "metadata": {},
   "outputs": [],
   "source": [
    "bars = api.get_bars(\"SPY\", alpaca.TimeFrame.Day, \"2021-06-01\", \"2024-11-18\").df\n",
    "\n",
    "bars\n"
   ]
  },
  {
   "cell_type": "code",
   "execution_count": null,
   "metadata": {},
   "outputs": [],
   "source": [
    "bars['30_Day_SMA'] = ta.SMA(bars['close'], timeperiod=30)\n",
    "\n",
    "plt.plot(bars['30_Day_SMA'], label='30 SMA')\n",
    "plt.plot(bars['close'], label = 'close')\n",
    "plt.legend()\n",
    "plt.show()\n"
   ]
  },
  {
   "cell_type": "code",
   "execution_count": null,
   "metadata": {},
   "outputs": [],
   "source": [
    "date = '2024-11-15'\n",
    "market_open_datetime = date + \"T14:30:00Z\"\n",
    "market_close_datetime = date + \"T21:00:00Z\"\n",
    "bars2 = api.get_bars('SPY', alpaca.TimeFrame.Minute, market_open_datetime, market_close_datetime).df \n",
    "\n",
    "print(bars2.to_string())\n",
    "bars2"
   ]
  },
  {
   "cell_type": "code",
   "execution_count": null,
   "metadata": {},
   "outputs": [],
   "source": [
    "api.get_latest_quote('SPY')"
   ]
  },
  {
   "cell_type": "code",
   "execution_count": null,
   "metadata": {},
   "outputs": [],
   "source": [
    "tickers = pd.read_csv('trading_tickers.csv')\n",
    "\n",
    "tickers"
   ]
  },
  {
   "cell_type": "code",
   "execution_count": null,
   "metadata": {},
   "outputs": [],
   "source": [
    "date = '2024-11-18'\n",
    "market_at_1PM = date + \"T18:00:00Z\""
   ]
  },
  {
   "cell_type": "code",
   "execution_count": null,
   "metadata": {},
   "outputs": [],
   "source": [
    "import datetime as dt\n",
    "now = dt.datetime.now(dt.timezone.utc)\n",
    "todays_date = now.strftime(\"%Y-%m-%d\")\n",
    "market_open_datetime = todays_date + \"T14:30:00Z\"\n",
    "current_datetime = now.strftime(\"%Y-%m-%dT%H:%M:%S.%fZ\")\n",
    "if now.hour >= 21:\n",
    "    current_datetime = date + \"T20:59:00Z\"\n",
    "\n",
    "print(market_open_datetime)\n",
    "print(current_datetime)"
   ]
  },
  {
   "cell_type": "code",
   "execution_count": null,
   "metadata": {},
   "outputs": [],
   "source": [
    "today_SPY_bars = api.get_bars(\"SPY\", alpaca.TimeFrame(1, alpaca.TimeFrameUnit.Minute), market_open_datetime, feed='iex').df\n",
    "\n",
    "today_SPY_bars"
   ]
  },
  {
   "cell_type": "code",
   "execution_count": null,
   "metadata": {},
   "outputs": [],
   "source": [
    "# POTENTIAL STRATEGY\n",
    "# here's an example of actual support levels\n",
    "#   MSFT hits recent low of $400 on May 1st, then hits a similar low of $390 on Aug 5th\n",
    "# however, good stocks tend to trend up. we can measure this with a 200 SMA\n",
    "# we can then calculate adjusted support levels based on the difference from the 200 SMA, which acts as the expected trajectory\n",
    "# we calculate the 200 SMA for the last 200 days, which requires 400 days of data"
   ]
  },
  {
   "cell_type": "code",
   "execution_count": null,
   "metadata": {},
   "outputs": [],
   "source": [
    "import time\n",
    "import datetime as dt"
   ]
  },
  {
   "cell_type": "code",
   "execution_count": null,
   "metadata": {},
   "outputs": [],
   "source": [
    "def get_SP500():\n",
    "    return pd.read_html('https://en.wikipedia.org/wiki/List_of_S%26P_500_companies')[0]"
   ]
  },
  {
   "cell_type": "code",
   "execution_count": null,
   "metadata": {},
   "outputs": [],
   "source": [
    "SP500 = get_SP500()\n",
    "SP500"
   ]
  },
  {
   "cell_type": "code",
   "execution_count": null,
   "metadata": {},
   "outputs": [],
   "source": [
    "now = dt.datetime.now(dt.timezone.utc)\n",
    "todays_date = now.strftime(\"%Y-%m-%d\")\n",
    "four_hundred_days_ago = (now - dt.timedelta(days=400)).strftime(\"%Y-%m-%d\")\n",
    "print(todays_date)\n",
    "print(four_hundred_days_ago)\n",
    "fh_date_time = four_hundred_days_ago + \"T14:30:00Z\"\n",
    "\n",
    "bars = api.get_bars(\"SPY\", alpaca.TimeFrame.Day, fh_date_time, feed='iex').df\n",
    "bars"
   ]
  },
  {
   "cell_type": "code",
   "execution_count": null,
   "metadata": {},
   "outputs": [],
   "source": []
  },
  {
   "cell_type": "code",
   "execution_count": null,
   "metadata": {},
   "outputs": [],
   "source": []
  },
  {
   "cell_type": "code",
   "execution_count": null,
   "metadata": {},
   "outputs": [],
   "source": []
  }
 ],
 "metadata": {
  "kernelspec": {
   "display_name": "Python 3",
   "language": "python",
   "name": "python3"
  },
  "language_info": {
   "codemirror_mode": {
    "name": "ipython",
    "version": 3
   },
   "file_extension": ".py",
   "mimetype": "text/x-python",
   "name": "python",
   "nbconvert_exporter": "python",
   "pygments_lexer": "ipython3",
   "version": "3.12.0"
  }
 },
 "nbformat": 4,
 "nbformat_minor": 2
}
