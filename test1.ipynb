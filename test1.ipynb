{
 "cells": [
  {
   "cell_type": "code",
   "execution_count": 1,
   "metadata": {},
   "outputs": [],
   "source": [
    "import alpaca_trade_api as alpaca\n",
    "from dotenv import load_dotenv\n",
    "import os"
   ]
  },
  {
   "cell_type": "code",
   "execution_count": null,
   "metadata": {},
   "outputs": [],
   "source": [
    "# initialize API from API keys in .env\n",
    "load_dotenv()\n",
    "api_key = os.environ['APCA-API-KEY-ID']\n",
    "api_private_key = os.environ['APCA-API-SECRET-KEY']\n",
    "api_base_url = 'https://paper-api.alpaca.markets'\n",
    "api = alpaca.REST(api_key, api_private_key, api_base_url)"
   ]
  },
  {
   "cell_type": "code",
   "execution_count": null,
   "metadata": {},
   "outputs": [
    {
     "name": "stdout",
     "output_type": "stream",
     "text": [
      "Account({   'account_blocked': False,\n",
      "    'account_number': 'PA3DYO3UIUR9',\n",
      "    'accrued_fees': '0',\n",
      "    'admin_configurations': {},\n",
      "    'balance_asof': '2024-11-15',\n",
      "    'bod_dtbp': '0',\n",
      "    'buying_power': '200000',\n",
      "    'cash': '100000',\n",
      "    'created_at': '2024-11-18T15:46:34.388288Z',\n",
      "    'crypto_status': 'ACTIVE',\n",
      "    'crypto_tier': 0,\n",
      "    'currency': 'USD',\n",
      "    'daytrade_count': 0,\n",
      "    'daytrading_buying_power': '0',\n",
      "    'effective_buying_power': '200000',\n",
      "    'equity': '100000',\n",
      "    'id': 'ce3cfc2a-396f-46f1-b2c3-bd841a8e2582',\n",
      "    'initial_margin': '0',\n",
      "    'intraday_adjustments': '0',\n",
      "    'last_equity': '100000',\n",
      "    'last_maintenance_margin': '0',\n",
      "    'long_market_value': '0',\n",
      "    'maintenance_margin': '0',\n",
      "    'multiplier': '2',\n",
      "    'non_marginable_buying_power': '100000',\n",
      "    'options_approved_level': 2,\n",
      "    'options_buying_power': '100000',\n",
      "    'options_trading_level': 2,\n",
      "    'pattern_day_trader': False,\n",
      "    'pending_reg_taf_fees': '0',\n",
      "    'portfolio_value': '100000',\n",
      "    'position_market_value': '0',\n",
      "    'regt_buying_power': '200000',\n",
      "    'short_market_value': '0',\n",
      "    'shorting_enabled': True,\n",
      "    'sma': '0',\n",
      "    'status': 'ACTIVE',\n",
      "    'trade_suspended_by_user': False,\n",
      "    'trading_blocked': False,\n",
      "    'transfers_blocked': False,\n",
      "    'user_configurations': None})\n"
     ]
    }
   ],
   "source": [
    "account = api.get_account()\n",
    "print(account)"
   ]
  },
  {
   "cell_type": "code",
   "execution_count": null,
   "metadata": {},
   "outputs": [],
   "source": []
  },
  {
   "cell_type": "code",
   "execution_count": null,
   "metadata": {},
   "outputs": [],
   "source": []
  },
  {
   "cell_type": "code",
   "execution_count": null,
   "metadata": {},
   "outputs": [],
   "source": []
  }
 ],
 "metadata": {
  "kernelspec": {
   "display_name": "Python 3",
   "language": "python",
   "name": "python3"
  },
  "language_info": {
   "codemirror_mode": {
    "name": "ipython",
    "version": 3
   },
   "file_extension": ".py",
   "mimetype": "text/x-python",
   "name": "python",
   "nbconvert_exporter": "python",
   "pygments_lexer": "ipython3",
   "version": "3.11.9"
  }
 },
 "nbformat": 4,
 "nbformat_minor": 2
}
