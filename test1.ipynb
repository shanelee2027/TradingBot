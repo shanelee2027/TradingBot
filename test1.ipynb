{
 "cells": [
  {
   "cell_type": "markdown",
   "metadata": {},
   "source": [
    "# Shane's Swing Trading Strategy\n",
    "\n",
    "* Stocks have support levels\n",
    "    * e.g. MSFT hits recent low of $400 on May 1st, then hits a similar low of $390 on Aug 5th\n",
    "    * Stocks reaching support levels is a buying opportunity\n",
    "* However, good stocks trend up\n",
    "    * This means the support level of good stocks rise over time\n",
    "    * Thus it's difficult to rely on historical price data to determine support levels\n",
    "* To adjust for this, we calculate support levels not by historical price but rather historical difference between price and 200 SMA\n",
    "    * 200 SMA is a good indicator for the general direction of a stock\n",
    "    * The difference between the price and the 200 SMA then measures the residual of the price from its expected price"
   ]
  },
  {
   "cell_type": "code",
   "execution_count": null,
   "metadata": {},
   "outputs": [],
   "source": [
    "import alpaca_trade_api as alpaca\n",
    "from alpaca.trading.client import TradingClient\n",
    "from alpaca.trading.requests import MarketOrderRequest\n",
    "from alpaca.trading.enums import OrderSide, TimeInForce\n",
    "from dotenv import load_dotenv\n",
    "import os\n",
    "import pandas as pd\n",
    "import talib as ta\n",
    "import matplotlib.pyplot as plt\n",
    "import time\n",
    "import datetime as dt"
   ]
  },
  {
   "cell_type": "code",
   "execution_count": null,
   "metadata": {},
   "outputs": [],
   "source": [
    "# initialize API from API keys in .env\n",
    "load_dotenv()\n",
    "api_key = os.environ['APCA-API-KEY-ID']\n",
    "api_secret_key = os.environ['APCA-API-SECRET-KEY']\n",
    "api_base_url = 'https://paper-api.alpaca.markets'\n",
    "api = alpaca.REST(api_key, api_secret_key, api_base_url)\n",
    "account = api.get_account()\n",
    "trading_client = TradingClient(api_key, api_secret_key, paper=True)"
   ]
  },
  {
   "cell_type": "code",
   "execution_count": null,
   "metadata": {},
   "outputs": [],
   "source": [
    "def market_buy_order(ticker, quantity):\n",
    "    time.sleep(0.2)\n",
    "    market_order_data = MarketOrderRequest(\n",
    "                        symbol=ticker,\n",
    "                        qty=quantity,\n",
    "                        side=OrderSide.BUY,\n",
    "                        time_in_force=TimeInForce.DAY\n",
    "                        )\n",
    "    market_order = trading_client.submit_order(order_data=market_order_data)\n",
    "    print(market_order)\n",
    "    \n",
    "def market_sell_order(ticker, quantity):\n",
    "    time.sleep(0.2)\n",
    "    market_order_data = MarketOrderRequest(\n",
    "                        symbol=ticker,\n",
    "                        qty=quantity,\n",
    "                        side=OrderSide.SELL,\n",
    "                        time_in_force=TimeInForce.DAY\n",
    "                        )\n",
    "    market_order = trading_client.submit_order(order_data=market_order_data)\n",
    "    print(market_order)"
   ]
  },
  {
   "cell_type": "code",
   "execution_count": null,
   "metadata": {},
   "outputs": [],
   "source": [
    "def get_SP500():\n",
    "    return pd.read_html('https://en.wikipedia.org/wiki/List_of_S%26P_500_companies')[0]\n",
    "\n",
    "def add_business_days(start_date: dt.date, n: int) -> dt.date:\n",
    "    weeks, extra_days = divmod(n, 5)\n",
    "    result_date = start_date + dt.timedelta(weeks=weeks)\n",
    "\n",
    "    if extra_days != 0:\n",
    "        start_weekday = result_date.weekday()\n",
    "        \n",
    "        if start_weekday + extra_days > 4:\n",
    "            extra_days += 2\n",
    "        result_date += dt.timedelta(days=extra_days)\n",
    "    return result_date\n",
    "\n",
    "def bars_last_n_days(ticker, days):\n",
    "    now = dt.datetime.now(dt.timezone.utc)\n",
    "    todays_date = now.strftime(\"%Y-%m-%d\")\n",
    "    start_date = (now - dt.timedelta(days=days)).strftime(\"%Y-%m-%d\")\n",
    "    fh_date_time = start_date + \"T14:30:00Z\"\n",
    "    bars = api.get_bars(ticker, alpaca.TimeFrame.Day, fh_date_time, adjustment='split').df\n",
    "    return bars\n",
    "\n",
    "def bars_last_n_weeks(ticker, weeks):\n",
    "    now = dt.datetime.now(dt.timezone.utc)\n",
    "    todays_date = now.strftime(\"%Y-%m-%d\")\n",
    "    start_date = (now - dt.timedelta(weeks=weeks)).strftime(\"%Y-%m-%d\")\n",
    "    fh_date_time = start_date + \"T14:30:00Z\"\n",
    "    bars = api.get_bars(ticker, alpaca.TimeFrame.Day, fh_date_time, adjustment='split').df\n",
    "    bars = bars.reset_index()\n",
    "    bars = bars.rename(columns={'timestamp': 'date'})\n",
    "    bars['date'] = pd.to_datetime(bars['date']).dt.date\n",
    "    bars = bars.set_index('date')\n",
    "    return bars\n",
    "\n",
    "def add_SMA(bars, days):\n",
    "    bars[f\"{days} day SMA\"] = ta.SMA(bars['close'], timeperiod=days)\n",
    "    bars[f\"close - {days} day SMA\"] = bars['close'] - bars[f\"{days} day SMA\"]\n",
    "    return bars[bars[f\"{days} day SMA\"].notna()]\n",
    "\n",
    "def SMA_slope(bars, sma_days):\n",
    "    time_period = 5\n",
    "    return (bars.iloc[-1][f\"{sma_days} day SMA\"] - bars.iloc[-1 - time_period][f\"{sma_days} day SMA\"]) / time_period\n",
    "\n",
    "def get_troughs(bars, n_troughs, radius):\n",
    "    trough_dates = []\n",
    "    sorted_bars = bars.sort_values('close - 200 day SMA')\n",
    "    for i in range(len(sorted_bars)):\n",
    "        close_prox = False\n",
    "        row = sorted_bars.iloc[i]\n",
    "        date = row.name\n",
    "        for tdate in trough_dates:\n",
    "            lower_bound = add_business_days(tdate, -radius)\n",
    "            upper_bound = add_business_days(tdate, radius)\n",
    "            if date >= lower_bound and date <= upper_bound:\n",
    "                close_prox = True\n",
    "                break\n",
    "        if close_prox:\n",
    "            continue\n",
    "        trough_dates.append(date)\n",
    "        if len(trough_dates) >= n_troughs:\n",
    "            break\n",
    "    return sorted_bars[sorted_bars.index.isin(trough_dates)].sort_index()"
   ]
  },
  {
   "cell_type": "code",
   "execution_count": null,
   "metadata": {},
   "outputs": [],
   "source": [
    "bars = bars_last_n_weeks('META', 85)\n",
    "bars = add_SMA(bars, 200)\n",
    "print(SMA_slope(bars, 200))\n",
    "display(bars)\n",
    "bars.sort_values('close - 200 day SMA').head(20)"
   ]
  },
  {
   "cell_type": "code",
   "execution_count": null,
   "metadata": {},
   "outputs": [],
   "source": [
    "plt.plot(bars['close - 200 day SMA'])\n",
    "plt.show()\n",
    "plt.clf()"
   ]
  },
  {
   "cell_type": "code",
   "execution_count": null,
   "metadata": {},
   "outputs": [],
   "source": [
    "troughs = get_troughs(bars, 7, 5)\n",
    "troughs_range = troughs['close - 200 day SMA'].max() - troughs['close - 200 day SMA'].min()\n",
    "troughs_std = troughs['close - 200 day SMA'].std()\n",
    "troughs_mean = troughs['close - 200 day SMA'].mean()\n",
    "print(troughs_range)\n",
    "print(troughs_std)\n",
    "print(troughs_mean)\n",
    "troughs"
   ]
  },
  {
   "cell_type": "code",
   "execution_count": null,
   "metadata": {},
   "outputs": [],
   "source": [
    "print(api.get_latest_quote('META'))\n",
    "print(api.get_latest_trade('META'))"
   ]
  },
  {
   "cell_type": "code",
   "execution_count": null,
   "metadata": {},
   "outputs": [],
   "source": [
    "bars = api.get_bars(\"SPY\", alpaca.TimeFrame.Day, \"2021-06-01\", \"2024-11-18\").df\n",
    "\n",
    "bars\n"
   ]
  },
  {
   "cell_type": "code",
   "execution_count": null,
   "metadata": {},
   "outputs": [],
   "source": [
    "bars['30_Day_SMA'] = ta.SMA(bars['close'], timeperiod=30)\n",
    "\n",
    "\n",
    "plt.plot(bars['30_Day_SMA'], label='30 SMA')\n",
    "plt.plot(bars['close'], label = 'close')\n",
    "plt.legend()\n",
    "plt.show()\n",
    "plt.clf()\n"
   ]
  },
  {
   "cell_type": "code",
   "execution_count": null,
   "metadata": {},
   "outputs": [],
   "source": [
    "date = '2024-11-15'\n",
    "market_open_datetime = date + \"T14:30:00Z\"\n",
    "market_close_datetime = date + \"T21:00:00Z\"\n",
    "bars2 = api.get_bars('SPY', alpaca.TimeFrame.Minute, market_open_datetime, market_close_datetime).df \n",
    "\n",
    "print(bars2.to_string())\n",
    "bars2"
   ]
  },
  {
   "cell_type": "code",
   "execution_count": null,
   "metadata": {},
   "outputs": [],
   "source": [
    "api.get_latest_quote('SPY')"
   ]
  },
  {
   "cell_type": "code",
   "execution_count": null,
   "metadata": {},
   "outputs": [],
   "source": [
    "tickers = pd.read_csv('trading_tickers.csv')\n",
    "\n",
    "tickers"
   ]
  },
  {
   "cell_type": "code",
   "execution_count": null,
   "metadata": {},
   "outputs": [],
   "source": [
    "# POTENTIAL STRATEGY\n",
    "# here's an example of actual support levels\n",
    "#   MSFT hits recent low of $400 on May 1st, then hits a similar low of $390 on Aug 5th\n",
    "# however, good stocks tend to trend up. we can measure this with a 200 SMA\n",
    "# we can then calculate adjusted support levels based on the difference from the 200 SMA, which acts as the expected trajectory\n",
    "# we calculate the 200 SMA for the last 200 days, which requires 400 days of data"
   ]
  },
  {
   "cell_type": "code",
   "execution_count": null,
   "metadata": {},
   "outputs": [],
   "source": []
  },
  {
   "cell_type": "code",
   "execution_count": null,
   "metadata": {},
   "outputs": [],
   "source": [
    "SP500 = get_SP500()\n",
    "SP500"
   ]
  },
  {
   "cell_type": "code",
   "execution_count": null,
   "metadata": {},
   "outputs": [],
   "source": []
  },
  {
   "cell_type": "code",
   "execution_count": null,
   "metadata": {},
   "outputs": [],
   "source": []
  },
  {
   "cell_type": "code",
   "execution_count": null,
   "metadata": {},
   "outputs": [],
   "source": []
  }
 ],
 "metadata": {
  "kernelspec": {
   "display_name": "Python 3",
   "language": "python",
   "name": "python3"
  },
  "language_info": {
   "codemirror_mode": {
    "name": "ipython",
    "version": 3
   },
   "file_extension": ".py",
   "mimetype": "text/x-python",
   "name": "python",
   "nbconvert_exporter": "python",
   "pygments_lexer": "ipython3",
   "version": "3.12.0"
  }
 },
 "nbformat": 4,
 "nbformat_minor": 2
}
