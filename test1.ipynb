{
 "cells": [
  {
   "cell_type": "markdown",
   "metadata": {},
   "source": [
    "# Shane's Swing Trading Strategy\n",
    "\n",
    "* Stocks have support levels\n",
    "    * e.g. MSFT hits recent low of $400 on May 1st, then hits a similar low of $390 on Aug 5th\n",
    "    * Stocks reaching support levels is a buying opportunity\n",
    "* However, good stocks trend up\n",
    "    * This means the support level of good stocks rise over time\n",
    "    * Thus it's difficult to rely on historical price data to determine support levels\n",
    "* To adjust for this, we calculate support levels not by historical price but rather historical difference between price and 200 SMA\n",
    "    * 200 SMA is a good indicator for the general direction of a stock\n",
    "    * The difference between the price and the 200 SMA then measures the residual of the price from its expected price"
   ]
  },
  {
   "cell_type": "code",
   "execution_count": 451,
   "metadata": {},
   "outputs": [],
   "source": [
    "import alpaca_trade_api as alpaca\n",
    "from alpaca.trading.client import TradingClient\n",
    "from alpaca.trading.requests import MarketOrderRequest\n",
    "from alpaca.trading.enums import OrderSide, TimeInForce\n",
    "from dotenv import load_dotenv\n",
    "import os\n",
    "import pandas as pd\n",
    "import talib as ta\n",
    "import matplotlib.pyplot as plt\n",
    "import time\n",
    "import datetime as dt"
   ]
  },
  {
   "cell_type": "code",
   "execution_count": 452,
   "metadata": {},
   "outputs": [],
   "source": [
    "# initialize API from API keys in .env\n",
    "load_dotenv()\n",
    "api_key = os.environ['APCA-API-KEY-ID']\n",
    "api_secret_key = os.environ['APCA-API-SECRET-KEY']\n",
    "api_base_url = 'https://paper-api.alpaca.markets'\n",
    "api = alpaca.REST(api_key, api_secret_key, api_base_url)\n",
    "account = api.get_account()\n",
    "trading_client = TradingClient(api_key, api_secret_key, paper=True)"
   ]
  },
  {
   "cell_type": "code",
   "execution_count": 453,
   "metadata": {},
   "outputs": [],
   "source": [
    "def market_buy_order(ticker, quantity):\n",
    "    time.sleep(0.2)\n",
    "    market_order_data = MarketOrderRequest(\n",
    "                        symbol=ticker,\n",
    "                        qty=quantity,\n",
    "                        side=OrderSide.BUY,\n",
    "                        time_in_force=TimeInForce.DAY\n",
    "                        )\n",
    "    market_order = trading_client.submit_order(order_data=market_order_data)\n",
    "    print(market_order)\n",
    "    \n",
    "def market_sell_order(ticker, quantity):\n",
    "    time.sleep(0.2)\n",
    "    market_order_data = MarketOrderRequest(\n",
    "                        symbol=ticker,\n",
    "                        qty=quantity,\n",
    "                        side=OrderSide.SELL,\n",
    "                        time_in_force=TimeInForce.DAY\n",
    "                        )\n",
    "    market_order = trading_client.submit_order(order_data=market_order_data)\n",
    "    print(market_order)"
   ]
  },
  {
   "cell_type": "code",
   "execution_count": 454,
   "metadata": {},
   "outputs": [],
   "source": [
    "def get_SP500():\n",
    "    return pd.read_html('https://en.wikipedia.org/wiki/List_of_S%26P_500_companies')[0]\n",
    "\n",
    "def add_business_days(start_date: dt.date, n: int) -> dt.date:\n",
    "    weeks, extra_days = divmod(n, 5)\n",
    "    result_date = start_date + dt.timedelta(weeks=weeks)\n",
    "\n",
    "    if extra_days != 0:\n",
    "        start_weekday = result_date.weekday()\n",
    "        \n",
    "        if start_weekday + extra_days > 4:\n",
    "            extra_days += 2\n",
    "        result_date += dt.timedelta(days=extra_days)\n",
    "    return result_date\n",
    "\n",
    "def bars_last_n_days(ticker, days):\n",
    "    now = dt.datetime.now(dt.timezone.utc)\n",
    "    todays_date = now.strftime(\"%Y-%m-%d\")\n",
    "    start_date = (now - dt.timedelta(days=days)).strftime(\"%Y-%m-%d\")\n",
    "    fh_date_time = start_date + \"T14:30:00Z\"\n",
    "    bars = api.get_bars(ticker, alpaca.TimeFrame.Day, fh_date_time, adjustment='split').df\n",
    "    return bars\n",
    "\n",
    "def bars_last_n_weeks(ticker, weeks):\n",
    "    now = dt.datetime.now(dt.timezone.utc)\n",
    "    todays_date = now.strftime(\"%Y-%m-%d\")\n",
    "    start_date = (now - dt.timedelta(weeks=weeks)).strftime(\"%Y-%m-%d\")\n",
    "    fh_date_time = start_date + \"T14:30:00Z\"\n",
    "    bars = api.get_bars(ticker, alpaca.TimeFrame.Day, fh_date_time, adjustment='split').df\n",
    "    bars = bars.reset_index()\n",
    "    bars = bars.rename(columns={'timestamp': 'date'})\n",
    "    bars['date'] = pd.to_datetime(bars['date']).dt.date\n",
    "    bars = bars.set_index('date')\n",
    "    return bars\n",
    "\n",
    "def add_SMA(bars, days):\n",
    "    bars[f\"{days} day SMA\"] = ta.SMA(bars['close'], timeperiod=days)\n",
    "    bars[f\"close - {days} day SMA\"] = bars['close'] - bars[f\"{days} day SMA\"]\n",
    "    return bars[bars[f\"{days} day SMA\"].notna()]\n",
    "\n",
    "def SMA_slope(bars, sma_days):\n",
    "    time_period = 5\n",
    "    return (bars.iloc[-1][f\"{sma_days} day SMA\"] - bars.iloc[-1 - time_period][f\"{sma_days} day SMA\"]) / time_period\n",
    "\n",
    "def get_troughs(bars, n_troughs, radius):\n",
    "    trough_dates = []\n",
    "    sorted_bars = bars.sort_values('close - 200 day SMA')\n",
    "    for i in range(len(sorted_bars)):\n",
    "        close_prox = False\n",
    "        row = sorted_bars.iloc[i]\n",
    "        date = row.name\n",
    "        for tdate in trough_dates:\n",
    "            lower_bound = add_business_days(tdate, -radius)\n",
    "            upper_bound = add_business_days(tdate, radius)\n",
    "            if date >= lower_bound and date <= upper_bound:\n",
    "                close_prox = True\n",
    "                break\n",
    "        if close_prox:\n",
    "            continue\n",
    "        trough_dates.append(date)\n",
    "        if len(trough_dates) >= n_troughs:\n",
    "            break\n",
    "    return sorted_bars[sorted_bars.index.isin(trough_dates)].sort_index()"
   ]
  },
  {
   "cell_type": "code",
   "execution_count": null,
   "metadata": {},
   "outputs": [],
   "source": [
    "def execute_trading_strategy():\n",
    "    troughs_std_threshold = 0.025\n",
    "    SMA_slope_yearly_threshold = 0.20\n",
    "    buy_amount = 5000\n",
    "\n",
    "    held_tickers = []\n",
    "    all_positions = trading_client.get_all_positions()\n",
    "    for position in all_positions:\n",
    "        held_tickers.append(position.symbol)\n",
    "    held_tickers\n",
    "\n",
    "    SP500 = get_SP500()\n",
    "    # tickers = pd.read_csv('trading_tickers.csv')\n",
    "    for ticker in SP500['Symbol']:\n",
    "        if ticker in held_tickers:\n",
    "            continue\n",
    "        time.sleep(0.05)\n",
    "        bars = bars_last_n_weeks(ticker, 85)\n",
    "        print(ticker)\n",
    "        bars = add_SMA(bars, 200)\n",
    "        if bars.empty:\n",
    "            continue\n",
    "        troughs = get_troughs(bars, 7, 5)\n",
    "        # troughs_range = troughs['close - 200 day SMA'].max() - troughs['close - 200 day SMA'].min()\n",
    "        troughs_std = troughs['close - 200 day SMA'].std()\n",
    "        troughs_mean = troughs['close - 200 day SMA'].mean()\n",
    "        latest_trade = api.get_latest_trade(ticker)\n",
    "        current_price = latest_trade.p\n",
    "        last_sma = bars.iloc[-1]['200 day SMA']\n",
    "        SMA_200_slope_percentage = SMA_slope(bars, 200) / current_price\n",
    "        \n",
    "        if troughs_std / current_price > troughs_std_threshold:\n",
    "            continue \n",
    "        if current_price - last_sma > troughs_mean:\n",
    "            continue\n",
    "        if SMA_200_slope_percentage * 365 < SMA_slope_yearly_threshold:\n",
    "            continue\n",
    "        shares_to_buy = buy_amount / current_price\n",
    "        market_buy_order(ticker, shares_to_buy)\n",
    "        print(f\"bought {ticker}\")\n",
    "\n",
    "    sell_threshold = 0.03\n",
    "\n",
    "    for position in all_positions:\n",
    "        avg_cost_basis = float(position.avg_entry_price)\n",
    "        current_price = float(position.current_price)\n",
    "        if current_price > avg_cost_basis * (1 + sell_threshold) or current_price < avg_cost_basis * (1 - sell_threshold):\n",
    "            market_sell_order(position.qty)\n",
    "            print(f\"sold {position.symbol}\")"
   ]
  },
  {
   "cell_type": "code",
   "execution_count": 456,
   "metadata": {},
   "outputs": [
    {
     "name": "stdout",
     "output_type": "stream",
     "text": [
      "MMM\n",
      "AOS\n",
      "ABT\n",
      "ABBV\n",
      "ACN\n",
      "ADBE\n",
      "AMD\n",
      "AES\n",
      "AFL\n",
      "A\n",
      "APD\n",
      "ABNB\n",
      "AKAM\n",
      "ALB\n",
      "ARE\n",
      "ALGN\n",
      "ALLE\n",
      "LNT\n",
      "ALL\n",
      "GOOGL\n",
      "GOOG\n",
      "MO\n",
      "AMZN\n",
      "AMCR\n",
      "AMTM\n",
      "AEE\n",
      "AEP\n",
      "AXP\n",
      "AIG\n",
      "AMT\n",
      "AWK\n",
      "AMP\n",
      "AME\n",
      "AMGN\n",
      "APH\n",
      "ADI\n",
      "ANSS\n",
      "AON\n",
      "APA\n",
      "AAPL\n",
      "AMAT\n",
      "APTV\n",
      "ACGL\n",
      "ADM\n",
      "ANET\n",
      "AJG\n",
      "AIZ\n",
      "T\n",
      "ATO\n",
      "ADSK\n",
      "ADP\n",
      "AZO\n",
      "AVB\n",
      "AVY\n",
      "AXON\n",
      "BKR\n",
      "BALL\n",
      "BAC\n",
      "BAX\n",
      "BDX\n",
      "BRK.B\n",
      "BBY\n",
      "TECH\n",
      "BIIB\n",
      "BLK\n",
      "BX\n",
      "BK\n",
      "BA\n"
     ]
    },
    {
     "name": "stderr",
     "output_type": "stream",
     "text": [
      "sleep 3 seconds and retrying https://data.alpaca.markets/v2/stocks/BKNG/bars 3 more time(s)...\n"
     ]
    },
    {
     "name": "stdout",
     "output_type": "stream",
     "text": [
      "BKNG\n",
      "BWA\n",
      "BSX\n",
      "BMY\n",
      "AVGO\n",
      "BR\n"
     ]
    },
    {
     "name": "stderr",
     "output_type": "stream",
     "text": [
      "sleep 3 seconds and retrying https://data.alpaca.markets/v2/stocks/BRO/bars 3 more time(s)...\n"
     ]
    },
    {
     "name": "stdout",
     "output_type": "stream",
     "text": [
      "BRO\n",
      "BF.B\n",
      "BLDR\n",
      "BG\n",
      "BXP\n",
      "CHRW\n"
     ]
    },
    {
     "name": "stderr",
     "output_type": "stream",
     "text": [
      "sleep 3 seconds and retrying https://data.alpaca.markets/v2/stocks/CDNS/trades/latest 3 more time(s)...\n"
     ]
    },
    {
     "name": "stdout",
     "output_type": "stream",
     "text": [
      "CDNS\n",
      "CZR\n",
      "CPT\n",
      "CPB\n",
      "COF\n",
      "CAH\n"
     ]
    },
    {
     "name": "stderr",
     "output_type": "stream",
     "text": [
      "sleep 3 seconds and retrying https://data.alpaca.markets/v2/stocks/CCL/bars 3 more time(s)...\n"
     ]
    },
    {
     "name": "stdout",
     "output_type": "stream",
     "text": [
      "KMX\n",
      "CCL\n",
      "CARR\n",
      "CTLT\n",
      "CAT\n",
      "CBOE\n"
     ]
    },
    {
     "name": "stderr",
     "output_type": "stream",
     "text": [
      "sleep 3 seconds and retrying https://data.alpaca.markets/v2/stocks/CBRE/trades/latest 3 more time(s)...\n"
     ]
    },
    {
     "name": "stdout",
     "output_type": "stream",
     "text": [
      "CBRE\n",
      "CDW\n",
      "CE\n",
      "COR\n",
      "CNC\n",
      "CNP\n"
     ]
    },
    {
     "name": "stderr",
     "output_type": "stream",
     "text": [
      "sleep 3 seconds and retrying https://data.alpaca.markets/v2/stocks/CRL/bars 3 more time(s)...\n"
     ]
    },
    {
     "name": "stdout",
     "output_type": "stream",
     "text": [
      "CF\n",
      "CRL\n",
      "SCHW\n",
      "CHTR\n",
      "CVX\n",
      "CMG\n",
      "CB\n"
     ]
    },
    {
     "name": "stderr",
     "output_type": "stream",
     "text": [
      "sleep 3 seconds and retrying https://data.alpaca.markets/v2/stocks/CB/trades/latest 3 more time(s)...\n"
     ]
    },
    {
     "name": "stdout",
     "output_type": "stream",
     "text": [
      "id=UUID('21afaf71-7e03-40f0-a942-2a25108f42a8') client_order_id='05bf26d0-2331-416e-91c1-d5f6fda86e44' created_at=datetime.datetime(2024, 11, 20, 19, 31, 50, 57132, tzinfo=TzInfo(UTC)) updated_at=datetime.datetime(2024, 11, 20, 19, 31, 50, 57795, tzinfo=TzInfo(UTC)) submitted_at=datetime.datetime(2024, 11, 20, 19, 31, 50, 57132, tzinfo=TzInfo(UTC)) filled_at=None expired_at=None canceled_at=None failed_at=None replaced_at=None replaced_by=None replaces=None asset_id=UUID('2453845c-4785-46de-b332-6ee2438da196') symbol='CB' asset_class=<AssetClass.US_EQUITY: 'us_equity'> notional=None qty='10.667045939' filled_qty='0' filled_avg_price=None order_class=<OrderClass.SIMPLE: 'simple'> order_type=<OrderType.MARKET: 'market'> type=<OrderType.MARKET: 'market'> side=<OrderSide.BUY: 'buy'> time_in_force=<TimeInForce.DAY: 'day'> limit_price=None stop_price=None status=<OrderStatus.PENDING_NEW: 'pending_new'> extended_hours=False legs=None trail_percent=None trail_price=None hwm=None\n",
      "bought CB\n",
      "CHD\n",
      "CI\n",
      "CINF\n",
      "CTAS\n",
      "CSCO\n"
     ]
    },
    {
     "name": "stderr",
     "output_type": "stream",
     "text": [
      "sleep 3 seconds and retrying https://data.alpaca.markets/v2/stocks/CFG/bars 3 more time(s)...\n"
     ]
    },
    {
     "name": "stdout",
     "output_type": "stream",
     "text": [
      "C\n",
      "CFG\n",
      "CLX\n",
      "CME\n",
      "CMS\n",
      "KO\n",
      "CTSH\n"
     ]
    },
    {
     "name": "stderr",
     "output_type": "stream",
     "text": [
      "sleep 3 seconds and retrying https://data.alpaca.markets/v2/stocks/CL/bars 3 more time(s)...\n"
     ]
    },
    {
     "name": "stdout",
     "output_type": "stream",
     "text": [
      "CL\n",
      "CMCSA\n",
      "CAG\n",
      "COP\n",
      "ED\n"
     ]
    },
    {
     "name": "stderr",
     "output_type": "stream",
     "text": [
      "sleep 3 seconds and retrying https://data.alpaca.markets/v2/stocks/CEG/trades/latest 3 more time(s)...\n"
     ]
    },
    {
     "name": "stdout",
     "output_type": "stream",
     "text": [
      "STZ\n",
      "CEG\n",
      "COO\n",
      "CPRT\n",
      "GLW\n",
      "CPAY\n",
      "CTVA\n"
     ]
    },
    {
     "name": "stderr",
     "output_type": "stream",
     "text": [
      "sleep 3 seconds and retrying https://data.alpaca.markets/v2/stocks/COST/bars 3 more time(s)...\n"
     ]
    },
    {
     "name": "stdout",
     "output_type": "stream",
     "text": [
      "CSGP\n",
      "COST\n",
      "CTRA\n",
      "CRWD\n",
      "CCI\n",
      "CSX\n",
      "CMI\n"
     ]
    },
    {
     "name": "stderr",
     "output_type": "stream",
     "text": [
      "sleep 3 seconds and retrying https://data.alpaca.markets/v2/stocks/CVS/trades/latest 3 more time(s)...\n"
     ]
    },
    {
     "name": "stdout",
     "output_type": "stream",
     "text": [
      "CVS\n",
      "DHR\n",
      "DRI\n",
      "DVA\n",
      "DAY\n"
     ]
    },
    {
     "name": "stderr",
     "output_type": "stream",
     "text": [
      "sleep 3 seconds and retrying https://data.alpaca.markets/v2/stocks/DE/trades/latest 3 more time(s)...\n"
     ]
    },
    {
     "name": "stdout",
     "output_type": "stream",
     "text": [
      "DECK\n",
      "DE\n",
      "DELL\n",
      "DAL\n",
      "DVN\n",
      "DXCM\n"
     ]
    },
    {
     "name": "stderr",
     "output_type": "stream",
     "text": [
      "sleep 3 seconds and retrying https://data.alpaca.markets/v2/stocks/DLR/trades/latest 3 more time(s)...\n"
     ]
    },
    {
     "name": "stdout",
     "output_type": "stream",
     "text": [
      "FANG\n",
      "DLR\n",
      "DFS\n",
      "DG\n",
      "DLTR\n",
      "D\n"
     ]
    },
    {
     "name": "stderr",
     "output_type": "stream",
     "text": [
      "sleep 3 seconds and retrying https://data.alpaca.markets/v2/stocks/DOW/bars 3 more time(s)...\n"
     ]
    },
    {
     "name": "stdout",
     "output_type": "stream",
     "text": [
      "DPZ\n",
      "DOV\n",
      "DOW\n",
      "DHI\n",
      "DTE\n",
      "DUK\n",
      "DD\n"
     ]
    },
    {
     "name": "stderr",
     "output_type": "stream",
     "text": [
      "sleep 3 seconds and retrying https://data.alpaca.markets/v2/stocks/ETN/trades/latest 3 more time(s)...\n"
     ]
    },
    {
     "name": "stdout",
     "output_type": "stream",
     "text": [
      "EMN\n",
      "ETN\n",
      "EBAY\n",
      "ECL\n",
      "id=UUID('ceabbd35-5d25-4872-8a71-d0a5ccf58185') client_order_id='9c64ea01-dae8-4bca-b528-9e8d0eaab893' created_at=datetime.datetime(2024, 11, 20, 19, 32, 24, 147307, tzinfo=TzInfo(UTC)) updated_at=datetime.datetime(2024, 11, 20, 19, 32, 24, 148278, tzinfo=TzInfo(UTC)) submitted_at=datetime.datetime(2024, 11, 20, 19, 32, 24, 147307, tzinfo=TzInfo(UTC)) filled_at=None expired_at=None canceled_at=None failed_at=None replaced_at=None replaced_by=None replaces=None asset_id=UUID('b636b9b8-669c-4788-a0eb-ff5f6ea7f09e') symbol='ECL' asset_class=<AssetClass.US_EQUITY: 'us_equity'> notional=None qty='12.45847176' filled_qty='0' filled_avg_price=None order_class=<OrderClass.SIMPLE: 'simple'> order_type=<OrderType.MARKET: 'market'> type=<OrderType.MARKET: 'market'> side=<OrderSide.BUY: 'buy'> time_in_force=<TimeInForce.DAY: 'day'> limit_price=None stop_price=None status=<OrderStatus.PENDING_NEW: 'pending_new'> extended_hours=False legs=None trail_percent=None trail_price=None hwm=None\n",
      "bought ECL\n",
      "EIX\n",
      "EW\n",
      "EA\n",
      "ELV\n"
     ]
    },
    {
     "name": "stderr",
     "output_type": "stream",
     "text": [
      "sleep 3 seconds and retrying https://data.alpaca.markets/v2/stocks/EMR/bars 3 more time(s)...\n"
     ]
    },
    {
     "name": "stdout",
     "output_type": "stream",
     "text": [
      "EMR\n",
      "ENPH\n",
      "ETR\n",
      "EOG\n",
      "EPAM\n"
     ]
    },
    {
     "name": "stderr",
     "output_type": "stream",
     "text": [
      "sleep 3 seconds and retrying https://data.alpaca.markets/v2/stocks/EQT/trades/latest 3 more time(s)...\n"
     ]
    },
    {
     "name": "stdout",
     "output_type": "stream",
     "text": [
      "EQT\n",
      "EFX\n",
      "EQIX\n",
      "EQR\n",
      "ERIE\n",
      "ESS\n",
      "EL\n"
     ]
    },
    {
     "name": "stderr",
     "output_type": "stream",
     "text": [
      "sleep 3 seconds and retrying https://data.alpaca.markets/v2/stocks/EG/trades/latest 3 more time(s)...\n"
     ]
    },
    {
     "name": "stdout",
     "output_type": "stream",
     "text": [
      "EG\n",
      "EVRG\n",
      "ES\n",
      "EXC\n",
      "EXPE\n",
      "EXPD\n",
      "EXR\n",
      "XOM\n"
     ]
    },
    {
     "name": "stderr",
     "output_type": "stream",
     "text": [
      "sleep 3 seconds and retrying https://data.alpaca.markets/v2/stocks/FFIV/bars 3 more time(s)...\n"
     ]
    },
    {
     "name": "stdout",
     "output_type": "stream",
     "text": [
      "FFIV\n",
      "FDS\n",
      "FICO\n",
      "FAST\n",
      "FRT\n",
      "FDX\n"
     ]
    },
    {
     "name": "stderr",
     "output_type": "stream",
     "text": [
      "sleep 3 seconds and retrying https://data.alpaca.markets/v2/stocks/FIS/trades/latest 3 more time(s)...\n"
     ]
    },
    {
     "name": "stdout",
     "output_type": "stream",
     "text": [
      "FIS\n",
      "FITB\n",
      "FSLR\n",
      "FE\n"
     ]
    },
    {
     "name": "stderr",
     "output_type": "stream",
     "text": [
      "sleep 3 seconds and retrying https://data.alpaca.markets/v2/stocks/F/bars 3 more time(s)...\n"
     ]
    },
    {
     "name": "stdout",
     "output_type": "stream",
     "text": [
      "FI\n",
      "FMC\n",
      "F\n",
      "FTNT\n",
      "FTV\n",
      "FOXA\n",
      "FOX\n",
      "BEN\n"
     ]
    },
    {
     "name": "stderr",
     "output_type": "stream",
     "text": [
      "sleep 3 seconds and retrying https://data.alpaca.markets/v2/stocks/FCX/trades/latest 3 more time(s)...\n"
     ]
    },
    {
     "name": "stdout",
     "output_type": "stream",
     "text": [
      "FCX\n",
      "GRMN\n",
      "IT\n",
      "GE\n",
      "id=UUID('b7604148-82c7-4c57-b453-972ee56ab053') client_order_id='af2b2859-b347-4fcd-ac64-c7587b11c573' created_at=datetime.datetime(2024, 11, 20, 19, 32, 51, 556466, tzinfo=TzInfo(UTC)) updated_at=datetime.datetime(2024, 11, 20, 19, 32, 51, 557440, tzinfo=TzInfo(UTC)) submitted_at=datetime.datetime(2024, 11, 20, 19, 32, 51, 556466, tzinfo=TzInfo(UTC)) filled_at=None expired_at=None canceled_at=None failed_at=None replaced_at=None replaced_by=None replaces=None asset_id=UUID('0116ac5c-90bc-47a2-8bb4-0f4551521dc6') symbol='GE' asset_class=<AssetClass.US_EQUITY: 'us_equity'> notional=None qty='16.946280291' filled_qty='0' filled_avg_price=None order_class=<OrderClass.SIMPLE: 'simple'> order_type=<OrderType.MARKET: 'market'> type=<OrderType.MARKET: 'market'> side=<OrderSide.BUY: 'buy'> time_in_force=<TimeInForce.DAY: 'day'> limit_price=None stop_price=None status=<OrderStatus.PENDING_NEW: 'pending_new'> extended_hours=False legs=None trail_percent=None trail_price=None hwm=None\n",
      "bought GE\n",
      "GEHC\n",
      "GEV\n"
     ]
    },
    {
     "name": "stderr",
     "output_type": "stream",
     "text": [
      "sleep 3 seconds and retrying https://data.alpaca.markets/v2/stocks/GD/bars 3 more time(s)...\n"
     ]
    },
    {
     "name": "stdout",
     "output_type": "stream",
     "text": [
      "GEN\n",
      "GNRC\n",
      "GD\n",
      "GIS\n",
      "GM\n",
      "GPC\n",
      "GILD\n",
      "GPN\n"
     ]
    },
    {
     "name": "stderr",
     "output_type": "stream",
     "text": [
      "sleep 3 seconds and retrying https://data.alpaca.markets/v2/stocks/GL/trades/latest 3 more time(s)...\n"
     ]
    },
    {
     "name": "stdout",
     "output_type": "stream",
     "text": [
      "GL\n",
      "GDDY\n",
      "GS\n",
      "HAL\n",
      "HIG\n",
      "HAS\n"
     ]
    },
    {
     "name": "stderr",
     "output_type": "stream",
     "text": [
      "sleep 3 seconds and retrying https://data.alpaca.markets/v2/stocks/HCA/trades/latest 3 more time(s)...\n"
     ]
    },
    {
     "name": "stdout",
     "output_type": "stream",
     "text": [
      "HCA\n",
      "DOC\n",
      "HSIC\n",
      "HSY\n",
      "HES\n",
      "HPE\n"
     ]
    },
    {
     "name": "stderr",
     "output_type": "stream",
     "text": [
      "sleep 3 seconds and retrying https://data.alpaca.markets/v2/stocks/HOLX/bars 3 more time(s)...\n"
     ]
    },
    {
     "name": "stdout",
     "output_type": "stream",
     "text": [
      "HLT\n",
      "HOLX\n",
      "HD\n",
      "HON\n",
      "HRL\n",
      "HST\n",
      "HWM\n"
     ]
    },
    {
     "name": "stderr",
     "output_type": "stream",
     "text": [
      "sleep 3 seconds and retrying https://data.alpaca.markets/v2/stocks/HPQ/trades/latest 3 more time(s)...\n"
     ]
    },
    {
     "name": "stdout",
     "output_type": "stream",
     "text": [
      "HPQ\n",
      "HUBB\n",
      "HUM\n",
      "HBAN\n",
      "HII\n",
      "IBM\n"
     ]
    },
    {
     "name": "stderr",
     "output_type": "stream",
     "text": [
      "sleep 3 seconds and retrying https://data.alpaca.markets/v2/stocks/IDXX/bars 3 more time(s)...\n"
     ]
    },
    {
     "name": "stdout",
     "output_type": "stream",
     "text": [
      "IEX\n",
      "IDXX\n",
      "ITW\n",
      "INCY\n",
      "IR\n",
      "PODD\n",
      "INTC\n"
     ]
    },
    {
     "name": "stderr",
     "output_type": "stream",
     "text": [
      "sleep 3 seconds and retrying https://data.alpaca.markets/v2/stocks/ICE/bars 3 more time(s)...\n"
     ]
    },
    {
     "name": "stdout",
     "output_type": "stream",
     "text": [
      "ICE\n",
      "IFF\n",
      "IP\n",
      "IPG\n",
      "INTU\n",
      "ISRG\n"
     ]
    },
    {
     "name": "stderr",
     "output_type": "stream",
     "text": [
      "sleep 3 seconds and retrying https://data.alpaca.markets/v2/stocks/IVZ/trades/latest 3 more time(s)...\n"
     ]
    },
    {
     "name": "stdout",
     "output_type": "stream",
     "text": [
      "IVZ\n",
      "INVH\n",
      "IQV\n",
      "IRM\n",
      "JBHT\n",
      "JBL\n",
      "JKHY\n"
     ]
    },
    {
     "name": "stderr",
     "output_type": "stream",
     "text": [
      "sleep 3 seconds and retrying https://data.alpaca.markets/v2/stocks/J/bars 3 more time(s)...\n"
     ]
    },
    {
     "name": "stdout",
     "output_type": "stream",
     "text": [
      "J\n",
      "JNJ\n",
      "JCI\n",
      "JPM\n",
      "JNPR\n",
      "K\n"
     ]
    },
    {
     "name": "stderr",
     "output_type": "stream",
     "text": [
      "sleep 3 seconds and retrying https://data.alpaca.markets/v2/stocks/KVUE/bars 3 more time(s)...\n"
     ]
    },
    {
     "name": "stdout",
     "output_type": "stream",
     "text": [
      "KVUE\n",
      "KDP\n",
      "KEY\n",
      "KEYS\n",
      "KMB\n",
      "KIM\n"
     ]
    },
    {
     "name": "stderr",
     "output_type": "stream",
     "text": [
      "sleep 3 seconds and retrying https://data.alpaca.markets/v2/stocks/KMI/trades/latest 3 more time(s)...\n"
     ]
    },
    {
     "name": "stdout",
     "output_type": "stream",
     "text": [
      "KMI\n",
      "KKR\n",
      "KLAC\n",
      "KHC\n",
      "KR\n"
     ]
    },
    {
     "name": "stderr",
     "output_type": "stream",
     "text": [
      "sleep 3 seconds and retrying https://data.alpaca.markets/v2/stocks/LH/trades/latest 3 more time(s)...\n"
     ]
    },
    {
     "name": "stdout",
     "output_type": "stream",
     "text": [
      "LHX\n",
      "LH\n",
      "LRCX\n",
      "LW\n",
      "LVS\n",
      "LDOS\n",
      "id=UUID('86307698-a719-499c-a29b-3c4be9445301') client_order_id='9b8b7891-664b-4a77-8fcd-38d309c18ceb' created_at=datetime.datetime(2024, 11, 20, 19, 33, 37, 540629, tzinfo=TzInfo(UTC)) updated_at=datetime.datetime(2024, 11, 20, 19, 33, 37, 541581, tzinfo=TzInfo(UTC)) submitted_at=datetime.datetime(2024, 11, 20, 19, 33, 37, 540629, tzinfo=TzInfo(UTC)) filled_at=None expired_at=None canceled_at=None failed_at=None replaced_at=None replaced_by=None replaces=None asset_id=UUID('0baeabb2-12ac-4751-af09-fcb671f498a7') symbol='LDOS' asset_class=<AssetClass.US_EQUITY: 'us_equity'> notional=None qty='18.70207593' filled_qty='0' filled_avg_price=None order_class=<OrderClass.SIMPLE: 'simple'> order_type=<OrderType.MARKET: 'market'> type=<OrderType.MARKET: 'market'> side=<OrderSide.BUY: 'buy'> time_in_force=<TimeInForce.DAY: 'day'> limit_price=None stop_price=None status=<OrderStatus.PENDING_NEW: 'pending_new'> extended_hours=False legs=None trail_percent=None trail_price=None hwm=None\n",
      "bought LDOS\n",
      "LEN\n",
      "LLY\n"
     ]
    },
    {
     "name": "stderr",
     "output_type": "stream",
     "text": [
      "sleep 3 seconds and retrying https://data.alpaca.markets/v2/stocks/LIN/bars 3 more time(s)...\n"
     ]
    },
    {
     "name": "stdout",
     "output_type": "stream",
     "text": [
      "LIN\n",
      "LYV\n",
      "LKQ\n",
      "LMT\n",
      "L\n",
      "LOW\n",
      "LULU\n"
     ]
    },
    {
     "name": "stderr",
     "output_type": "stream",
     "text": [
      "sleep 3 seconds and retrying https://data.alpaca.markets/v2/stocks/LULU/trades/latest 3 more time(s)...\n"
     ]
    },
    {
     "name": "stdout",
     "output_type": "stream",
     "text": [
      "LYB\n",
      "MTB\n",
      "MRO\n",
      "MPC\n",
      "MKTX\n",
      "MAR\n"
     ]
    },
    {
     "name": "stderr",
     "output_type": "stream",
     "text": [
      "sleep 3 seconds and retrying https://data.alpaca.markets/v2/stocks/MMC/trades/latest 3 more time(s)...\n"
     ]
    },
    {
     "name": "stdout",
     "output_type": "stream",
     "text": [
      "MMC\n",
      "MLM\n",
      "MAS\n",
      "MA\n",
      "MTCH\n"
     ]
    },
    {
     "name": "stderr",
     "output_type": "stream",
     "text": [
      "sleep 3 seconds and retrying https://data.alpaca.markets/v2/stocks/MCK/bars 3 more time(s)...\n"
     ]
    },
    {
     "name": "stdout",
     "output_type": "stream",
     "text": [
      "MKC\n",
      "MCD\n",
      "MCK\n",
      "MDT\n",
      "MRK\n",
      "META\n",
      "MET\n",
      "MTD\n"
     ]
    },
    {
     "name": "stderr",
     "output_type": "stream",
     "text": [
      "sleep 3 seconds and retrying https://data.alpaca.markets/v2/stocks/MGM/trades/latest 3 more time(s)...\n"
     ]
    },
    {
     "name": "stdout",
     "output_type": "stream",
     "text": [
      "MGM\n",
      "MCHP\n",
      "MU\n",
      "MSFT\n",
      "MAA\n"
     ]
    },
    {
     "name": "stderr",
     "output_type": "stream",
     "text": [
      "sleep 3 seconds and retrying https://data.alpaca.markets/v2/stocks/MOH/bars 3 more time(s)...\n"
     ]
    },
    {
     "name": "stdout",
     "output_type": "stream",
     "text": [
      "MRNA\n",
      "MHK\n",
      "MOH\n",
      "TAP\n",
      "MDLZ\n",
      "MPWR\n",
      "MNST\n"
     ]
    },
    {
     "name": "stderr",
     "output_type": "stream",
     "text": [
      "sleep 3 seconds and retrying https://data.alpaca.markets/v2/stocks/MCO/trades/latest 3 more time(s)...\n"
     ]
    },
    {
     "name": "stdout",
     "output_type": "stream",
     "text": [
      "MCO\n",
      "MS\n",
      "MOS\n",
      "MSI\n",
      "MSCI\n",
      "NDAQ\n"
     ]
    },
    {
     "name": "stderr",
     "output_type": "stream",
     "text": [
      "sleep 3 seconds and retrying https://data.alpaca.markets/v2/stocks/NFLX/bars 3 more time(s)...\n"
     ]
    },
    {
     "name": "stdout",
     "output_type": "stream",
     "text": [
      "NTAP\n",
      "NFLX\n",
      "NEM\n",
      "NWSA\n",
      "NWS\n",
      "NEE\n",
      "NKE\n"
     ]
    },
    {
     "name": "stderr",
     "output_type": "stream",
     "text": [
      "sleep 3 seconds and retrying https://data.alpaca.markets/v2/stocks/NDSN/bars 3 more time(s)...\n"
     ]
    },
    {
     "name": "stdout",
     "output_type": "stream",
     "text": [
      "NI\n",
      "NDSN\n",
      "NSC\n",
      "NTRS\n",
      "NOC\n",
      "NCLH\n",
      "NRG\n"
     ]
    },
    {
     "name": "stderr",
     "output_type": "stream",
     "text": [
      "sleep 3 seconds and retrying https://data.alpaca.markets/v2/stocks/NVDA/trades/latest 3 more time(s)...\n"
     ]
    },
    {
     "name": "stdout",
     "output_type": "stream",
     "text": [
      "NUE\n",
      "NVDA\n",
      "NVR\n",
      "NXPI\n",
      "ORLY\n",
      "OXY\n"
     ]
    },
    {
     "name": "stderr",
     "output_type": "stream",
     "text": [
      "sleep 3 seconds and retrying https://data.alpaca.markets/v2/stocks/OMC/trades/latest 3 more time(s)...\n"
     ]
    },
    {
     "name": "stdout",
     "output_type": "stream",
     "text": [
      "ODFL\n",
      "OMC\n",
      "ON\n",
      "OKE\n",
      "ORCL\n",
      "OTIS\n",
      "PCAR\n",
      "PKG\n"
     ]
    },
    {
     "name": "stderr",
     "output_type": "stream",
     "text": [
      "sleep 3 seconds and retrying https://data.alpaca.markets/v2/stocks/PLTR/bars 3 more time(s)...\n"
     ]
    },
    {
     "name": "stdout",
     "output_type": "stream",
     "text": [
      "PLTR\n",
      "PANW\n",
      "PARA\n",
      "PH\n"
     ]
    },
    {
     "name": "stderr",
     "output_type": "stream",
     "text": [
      "sleep 3 seconds and retrying https://data.alpaca.markets/v2/stocks/PYPL/bars 3 more time(s)...\n"
     ]
    },
    {
     "name": "stdout",
     "output_type": "stream",
     "text": [
      "PAYX\n",
      "PAYC\n",
      "PYPL\n",
      "PNR\n",
      "PEP\n",
      "PFE\n",
      "PCG\n",
      "PM\n"
     ]
    },
    {
     "name": "stderr",
     "output_type": "stream",
     "text": [
      "sleep 3 seconds and retrying https://data.alpaca.markets/v2/stocks/PSX/trades/latest 3 more time(s)...\n"
     ]
    },
    {
     "name": "stdout",
     "output_type": "stream",
     "text": [
      "PSX\n",
      "PNW\n",
      "PNC\n",
      "POOL\n",
      "PPG\n",
      "PPL\n"
     ]
    },
    {
     "name": "stderr",
     "output_type": "stream",
     "text": [
      "sleep 3 seconds and retrying https://data.alpaca.markets/v2/stocks/PG/bars 3 more time(s)...\n"
     ]
    },
    {
     "name": "stdout",
     "output_type": "stream",
     "text": [
      "PFG\n",
      "PG\n",
      "PGR\n",
      "PLD\n",
      "PRU\n",
      "PEG\n",
      "PTC\n"
     ]
    },
    {
     "name": "stderr",
     "output_type": "stream",
     "text": [
      "sleep 3 seconds and retrying https://data.alpaca.markets/v2/stocks/PSA/bars 3 more time(s)...\n"
     ]
    },
    {
     "name": "stdout",
     "output_type": "stream",
     "text": [
      "PSA\n",
      "PHM\n",
      "QRVO\n",
      "PWR\n",
      "QCOM\n",
      "DGX\n"
     ]
    },
    {
     "name": "stderr",
     "output_type": "stream",
     "text": [
      "sleep 3 seconds and retrying https://data.alpaca.markets/v2/stocks/RL/trades/latest 3 more time(s)...\n"
     ]
    },
    {
     "name": "stdout",
     "output_type": "stream",
     "text": [
      "RL\n",
      "RJF\n",
      "RTX\n",
      "O\n",
      "REG\n"
     ]
    },
    {
     "name": "stderr",
     "output_type": "stream",
     "text": [
      "sleep 3 seconds and retrying https://data.alpaca.markets/v2/stocks/RF/trades/latest 3 more time(s)...\n"
     ]
    },
    {
     "name": "stdout",
     "output_type": "stream",
     "text": [
      "REGN\n",
      "RF\n",
      "RSG\n",
      "RMD\n",
      "RVTY\n",
      "ROK\n",
      "ROL\n",
      "ROP\n"
     ]
    },
    {
     "name": "stderr",
     "output_type": "stream",
     "text": [
      "sleep 3 seconds and retrying https://data.alpaca.markets/v2/stocks/ROST/bars 3 more time(s)...\n"
     ]
    },
    {
     "name": "stdout",
     "output_type": "stream",
     "text": [
      "ROST\n",
      "RCL\n",
      "SPGI\n",
      "CRM\n",
      "SBAC\n",
      "SLB\n"
     ]
    },
    {
     "name": "stderr",
     "output_type": "stream",
     "text": [
      "sleep 3 seconds and retrying https://data.alpaca.markets/v2/stocks/SLB/trades/latest 3 more time(s)...\n"
     ]
    },
    {
     "name": "stdout",
     "output_type": "stream",
     "text": [
      "STX\n",
      "SRE\n",
      "NOW\n",
      "SHW\n",
      "SPG\n",
      "SWKS\n"
     ]
    },
    {
     "name": "stderr",
     "output_type": "stream",
     "text": [
      "sleep 3 seconds and retrying https://data.alpaca.markets/v2/stocks/SW/bars 3 more time(s)...\n"
     ]
    },
    {
     "name": "stdout",
     "output_type": "stream",
     "text": [
      "SJM\n",
      "SW\n",
      "SNA\n",
      "SOLV\n",
      "SO\n",
      "LUV\n",
      "SWK\n"
     ]
    },
    {
     "name": "stderr",
     "output_type": "stream",
     "text": [
      "sleep 3 seconds and retrying https://data.alpaca.markets/v2/stocks/SBUX/trades/latest 3 more time(s)...\n"
     ]
    },
    {
     "name": "stdout",
     "output_type": "stream",
     "text": [
      "SBUX\n",
      "STT\n",
      "STLD\n",
      "STE\n",
      "SYK\n",
      "SMCI\n"
     ]
    },
    {
     "name": "stderr",
     "output_type": "stream",
     "text": [
      "sleep 3 seconds and retrying https://data.alpaca.markets/v2/stocks/SYF/trades/latest 3 more time(s)...\n"
     ]
    },
    {
     "name": "stdout",
     "output_type": "stream",
     "text": [
      "SYF\n",
      "SNPS\n",
      "SYY\n",
      "TMUS\n",
      "TROW\n",
      "TTWO\n"
     ]
    },
    {
     "name": "stderr",
     "output_type": "stream",
     "text": [
      "sleep 3 seconds and retrying https://data.alpaca.markets/v2/stocks/TRGP/bars 3 more time(s)...\n"
     ]
    },
    {
     "name": "stdout",
     "output_type": "stream",
     "text": [
      "TPR\n",
      "TRGP\n",
      "TGT\n",
      "TEL\n",
      "TDY\n"
     ]
    },
    {
     "name": "stderr",
     "output_type": "stream",
     "text": [
      "sleep 3 seconds and retrying https://data.alpaca.markets/v2/stocks/TER/trades/latest 3 more time(s)...\n"
     ]
    },
    {
     "name": "stdout",
     "output_type": "stream",
     "text": [
      "TFX\n",
      "TER\n",
      "TSLA\n",
      "TXN\n",
      "TXT\n",
      "TMO\n",
      "TJX\n",
      "TSCO\n"
     ]
    },
    {
     "name": "stderr",
     "output_type": "stream",
     "text": [
      "sleep 3 seconds and retrying https://data.alpaca.markets/v2/stocks/TDG/bars 3 more time(s)...\n"
     ]
    },
    {
     "name": "stdout",
     "output_type": "stream",
     "text": [
      "id=UUID('73cf9eca-5364-4300-afe2-65168bd56289') client_order_id='96ba2fe8-f287-4a3a-a130-0e302f5b5d86' created_at=datetime.datetime(2024, 11, 20, 19, 35, 13, 819260, tzinfo=TzInfo(UTC)) updated_at=datetime.datetime(2024, 11, 20, 19, 35, 13, 820081, tzinfo=TzInfo(UTC)) submitted_at=datetime.datetime(2024, 11, 20, 19, 35, 13, 819260, tzinfo=TzInfo(UTC)) filled_at=None expired_at=None canceled_at=None failed_at=None replaced_at=None replaced_by=None replaces=None asset_id=UUID('6c288372-d98d-496a-b32f-56b65e485246') symbol='TSCO' asset_class=<AssetClass.US_EQUITY: 'us_equity'> notional=None qty='11.172768239' filled_qty='0' filled_avg_price=None order_class=<OrderClass.SIMPLE: 'simple'> order_type=<OrderType.MARKET: 'market'> type=<OrderType.MARKET: 'market'> side=<OrderSide.BUY: 'buy'> time_in_force=<TimeInForce.DAY: 'day'> limit_price=None stop_price=None status=<OrderStatus.PENDING_NEW: 'pending_new'> extended_hours=False legs=None trail_percent=None trail_price=None hwm=None\n",
      "bought TSCO\n",
      "TT\n",
      "TDG\n",
      "TRV\n",
      "TRMB\n",
      "TFC\n",
      "TYL\n",
      "TSN\n",
      "USB\n"
     ]
    },
    {
     "name": "stderr",
     "output_type": "stream",
     "text": [
      "sleep 3 seconds and retrying https://data.alpaca.markets/v2/stocks/USB/trades/latest 3 more time(s)...\n"
     ]
    },
    {
     "name": "stdout",
     "output_type": "stream",
     "text": [
      "UBER\n",
      "UDR\n",
      "ULTA\n",
      "UNP\n",
      "UAL\n",
      "UPS\n"
     ]
    },
    {
     "name": "stderr",
     "output_type": "stream",
     "text": [
      "sleep 3 seconds and retrying https://data.alpaca.markets/v2/stocks/URI/bars 3 more time(s)...\n"
     ]
    },
    {
     "name": "stdout",
     "output_type": "stream",
     "text": [
      "URI\n",
      "UNH\n",
      "UHS\n",
      "VLO\n"
     ]
    },
    {
     "name": "stderr",
     "output_type": "stream",
     "text": [
      "sleep 3 seconds and retrying https://data.alpaca.markets/v2/stocks/VLTO/trades/latest 3 more time(s)...\n"
     ]
    },
    {
     "name": "stdout",
     "output_type": "stream",
     "text": [
      "VTR\n",
      "VLTO\n",
      "VRSN\n",
      "VRSK\n",
      "VZ\n",
      "VRTX\n",
      "VTRS\n"
     ]
    },
    {
     "name": "stderr",
     "output_type": "stream",
     "text": [
      "sleep 3 seconds and retrying https://data.alpaca.markets/v2/stocks/V/trades/latest 3 more time(s)...\n"
     ]
    },
    {
     "name": "stdout",
     "output_type": "stream",
     "text": [
      "VICI\n",
      "V\n",
      "VST\n",
      "VMC\n",
      "WRB\n",
      "GWW\n",
      "WAB\n"
     ]
    },
    {
     "name": "stderr",
     "output_type": "stream",
     "text": [
      "sleep 3 seconds and retrying https://data.alpaca.markets/v2/stocks/WMT/trades/latest 3 more time(s)...\n"
     ]
    },
    {
     "name": "stdout",
     "output_type": "stream",
     "text": [
      "WBA\n",
      "WMT\n",
      "DIS\n",
      "WBD\n",
      "WM\n",
      "WAT\n",
      "WEC\n"
     ]
    },
    {
     "name": "stderr",
     "output_type": "stream",
     "text": [
      "sleep 3 seconds and retrying https://data.alpaca.markets/v2/stocks/WELL/bars 3 more time(s)...\n"
     ]
    },
    {
     "name": "stdout",
     "output_type": "stream",
     "text": [
      "WFC\n",
      "WELL\n",
      "WST\n",
      "WDC\n",
      "WY\n",
      "WMB\n",
      "WTW\n"
     ]
    },
    {
     "name": "stderr",
     "output_type": "stream",
     "text": [
      "sleep 3 seconds and retrying https://data.alpaca.markets/v2/stocks/WYNN/trades/latest 3 more time(s)...\n"
     ]
    },
    {
     "name": "stdout",
     "output_type": "stream",
     "text": [
      "WYNN\n",
      "XEL\n",
      "XYL\n",
      "YUM\n",
      "ZBRA\n",
      "ZBH\n",
      "ZTS\n"
     ]
    }
   ],
   "source": [
    "execute_trading_strategy()\n",
    "\n"
   ]
  },
  {
   "cell_type": "code",
   "execution_count": 457,
   "metadata": {},
   "outputs": [
    {
     "name": "stderr",
     "output_type": "stream",
     "text": [
      "sleep 3 seconds and retrying https://data.alpaca.markets/v2/stocks/KO/bars 3 more time(s)...\n"
     ]
    },
    {
     "name": "stdout",
     "output_type": "stream",
     "text": [
      "0.010649999999998272\n"
     ]
    },
    {
     "data": {
      "text/html": [
       "<div>\n",
       "<style scoped>\n",
       "    .dataframe tbody tr th:only-of-type {\n",
       "        vertical-align: middle;\n",
       "    }\n",
       "\n",
       "    .dataframe tbody tr th {\n",
       "        vertical-align: top;\n",
       "    }\n",
       "\n",
       "    .dataframe thead th {\n",
       "        text-align: right;\n",
       "    }\n",
       "</style>\n",
       "<table border=\"1\" class=\"dataframe\">\n",
       "  <thead>\n",
       "    <tr style=\"text-align: right;\">\n",
       "      <th></th>\n",
       "      <th>close</th>\n",
       "      <th>high</th>\n",
       "      <th>low</th>\n",
       "      <th>trade_count</th>\n",
       "      <th>open</th>\n",
       "      <th>volume</th>\n",
       "      <th>vwap</th>\n",
       "      <th>200 day SMA</th>\n",
       "      <th>close - 200 day SMA</th>\n",
       "    </tr>\n",
       "    <tr>\n",
       "      <th>date</th>\n",
       "      <th></th>\n",
       "      <th></th>\n",
       "      <th></th>\n",
       "      <th></th>\n",
       "      <th></th>\n",
       "      <th></th>\n",
       "      <th></th>\n",
       "      <th></th>\n",
       "      <th></th>\n",
       "    </tr>\n",
       "  </thead>\n",
       "  <tbody>\n",
       "    <tr>\n",
       "      <th>2024-01-23</th>\n",
       "      <td>59.85</td>\n",
       "      <td>60.00</td>\n",
       "      <td>59.460</td>\n",
       "      <td>115208</td>\n",
       "      <td>59.53</td>\n",
       "      <td>14481643</td>\n",
       "      <td>59.808040</td>\n",
       "      <td>59.62930</td>\n",
       "      <td>0.22070</td>\n",
       "    </tr>\n",
       "    <tr>\n",
       "      <th>2024-01-24</th>\n",
       "      <td>58.91</td>\n",
       "      <td>59.81</td>\n",
       "      <td>58.890</td>\n",
       "      <td>134332</td>\n",
       "      <td>59.80</td>\n",
       "      <td>16370484</td>\n",
       "      <td>59.241983</td>\n",
       "      <td>59.60965</td>\n",
       "      <td>-0.69965</td>\n",
       "    </tr>\n",
       "    <tr>\n",
       "      <th>2024-01-25</th>\n",
       "      <td>59.16</td>\n",
       "      <td>59.17</td>\n",
       "      <td>58.660</td>\n",
       "      <td>128352</td>\n",
       "      <td>59.01</td>\n",
       "      <td>14899712</td>\n",
       "      <td>58.988842</td>\n",
       "      <td>59.59200</td>\n",
       "      <td>-0.43200</td>\n",
       "    </tr>\n",
       "    <tr>\n",
       "      <th>2024-01-26</th>\n",
       "      <td>59.37</td>\n",
       "      <td>59.49</td>\n",
       "      <td>59.125</td>\n",
       "      <td>109480</td>\n",
       "      <td>59.25</td>\n",
       "      <td>13025072</td>\n",
       "      <td>59.334764</td>\n",
       "      <td>59.57595</td>\n",
       "      <td>-0.20595</td>\n",
       "    </tr>\n",
       "    <tr>\n",
       "      <th>2024-01-29</th>\n",
       "      <td>59.73</td>\n",
       "      <td>59.79</td>\n",
       "      <td>59.170</td>\n",
       "      <td>114989</td>\n",
       "      <td>59.34</td>\n",
       "      <td>14547070</td>\n",
       "      <td>59.517974</td>\n",
       "      <td>59.56115</td>\n",
       "      <td>0.16885</td>\n",
       "    </tr>\n",
       "    <tr>\n",
       "      <th>...</th>\n",
       "      <td>...</td>\n",
       "      <td>...</td>\n",
       "      <td>...</td>\n",
       "      <td>...</td>\n",
       "      <td>...</td>\n",
       "      <td>...</td>\n",
       "      <td>...</td>\n",
       "      <td>...</td>\n",
       "      <td>...</td>\n",
       "    </tr>\n",
       "    <tr>\n",
       "      <th>2024-11-14</th>\n",
       "      <td>62.55</td>\n",
       "      <td>63.11</td>\n",
       "      <td>62.430</td>\n",
       "      <td>153715</td>\n",
       "      <td>63.11</td>\n",
       "      <td>15910820</td>\n",
       "      <td>62.680813</td>\n",
       "      <td>64.57985</td>\n",
       "      <td>-2.02985</td>\n",
       "    </tr>\n",
       "    <tr>\n",
       "      <th>2024-11-15</th>\n",
       "      <td>61.74</td>\n",
       "      <td>62.63</td>\n",
       "      <td>61.390</td>\n",
       "      <td>216302</td>\n",
       "      <td>62.49</td>\n",
       "      <td>26204290</td>\n",
       "      <td>61.746808</td>\n",
       "      <td>64.58365</td>\n",
       "      <td>-2.84365</td>\n",
       "    </tr>\n",
       "    <tr>\n",
       "      <th>2024-11-18</th>\n",
       "      <td>61.86</td>\n",
       "      <td>62.14</td>\n",
       "      <td>61.560</td>\n",
       "      <td>137407</td>\n",
       "      <td>61.85</td>\n",
       "      <td>16079364</td>\n",
       "      <td>61.890968</td>\n",
       "      <td>64.59025</td>\n",
       "      <td>-2.73025</td>\n",
       "    </tr>\n",
       "    <tr>\n",
       "      <th>2024-11-19</th>\n",
       "      <td>62.59</td>\n",
       "      <td>62.62</td>\n",
       "      <td>61.630</td>\n",
       "      <td>142412</td>\n",
       "      <td>61.90</td>\n",
       "      <td>16250116</td>\n",
       "      <td>62.268566</td>\n",
       "      <td>64.60300</td>\n",
       "      <td>-2.01300</td>\n",
       "    </tr>\n",
       "    <tr>\n",
       "      <th>2024-11-20</th>\n",
       "      <td>62.90</td>\n",
       "      <td>62.91</td>\n",
       "      <td>62.020</td>\n",
       "      <td>99478</td>\n",
       "      <td>62.70</td>\n",
       "      <td>7431902</td>\n",
       "      <td>62.510931</td>\n",
       "      <td>64.61780</td>\n",
       "      <td>-1.71780</td>\n",
       "    </tr>\n",
       "  </tbody>\n",
       "</table>\n",
       "<p>211 rows × 9 columns</p>\n",
       "</div>"
      ],
      "text/plain": [
       "            close   high     low  trade_count   open    volume       vwap  \\\n",
       "date                                                                        \n",
       "2024-01-23  59.85  60.00  59.460       115208  59.53  14481643  59.808040   \n",
       "2024-01-24  58.91  59.81  58.890       134332  59.80  16370484  59.241983   \n",
       "2024-01-25  59.16  59.17  58.660       128352  59.01  14899712  58.988842   \n",
       "2024-01-26  59.37  59.49  59.125       109480  59.25  13025072  59.334764   \n",
       "2024-01-29  59.73  59.79  59.170       114989  59.34  14547070  59.517974   \n",
       "...           ...    ...     ...          ...    ...       ...        ...   \n",
       "2024-11-14  62.55  63.11  62.430       153715  63.11  15910820  62.680813   \n",
       "2024-11-15  61.74  62.63  61.390       216302  62.49  26204290  61.746808   \n",
       "2024-11-18  61.86  62.14  61.560       137407  61.85  16079364  61.890968   \n",
       "2024-11-19  62.59  62.62  61.630       142412  61.90  16250116  62.268566   \n",
       "2024-11-20  62.90  62.91  62.020        99478  62.70   7431902  62.510931   \n",
       "\n",
       "            200 day SMA  close - 200 day SMA  \n",
       "date                                          \n",
       "2024-01-23     59.62930              0.22070  \n",
       "2024-01-24     59.60965             -0.69965  \n",
       "2024-01-25     59.59200             -0.43200  \n",
       "2024-01-26     59.57595             -0.20595  \n",
       "2024-01-29     59.56115              0.16885  \n",
       "...                 ...                  ...  \n",
       "2024-11-14     64.57985             -2.02985  \n",
       "2024-11-15     64.58365             -2.84365  \n",
       "2024-11-18     64.59025             -2.73025  \n",
       "2024-11-19     64.60300             -2.01300  \n",
       "2024-11-20     64.61780             -1.71780  \n",
       "\n",
       "[211 rows x 9 columns]"
      ]
     },
     "metadata": {},
     "output_type": "display_data"
    },
    {
     "data": {
      "text/html": [
       "<div>\n",
       "<style scoped>\n",
       "    .dataframe tbody tr th:only-of-type {\n",
       "        vertical-align: middle;\n",
       "    }\n",
       "\n",
       "    .dataframe tbody tr th {\n",
       "        vertical-align: top;\n",
       "    }\n",
       "\n",
       "    .dataframe thead th {\n",
       "        text-align: right;\n",
       "    }\n",
       "</style>\n",
       "<table border=\"1\" class=\"dataframe\">\n",
       "  <thead>\n",
       "    <tr style=\"text-align: right;\">\n",
       "      <th></th>\n",
       "      <th>close</th>\n",
       "      <th>high</th>\n",
       "      <th>low</th>\n",
       "      <th>trade_count</th>\n",
       "      <th>open</th>\n",
       "      <th>volume</th>\n",
       "      <th>vwap</th>\n",
       "      <th>200 day SMA</th>\n",
       "      <th>close - 200 day SMA</th>\n",
       "    </tr>\n",
       "    <tr>\n",
       "      <th>date</th>\n",
       "      <th></th>\n",
       "      <th></th>\n",
       "      <th></th>\n",
       "      <th></th>\n",
       "      <th></th>\n",
       "      <th></th>\n",
       "      <th></th>\n",
       "      <th></th>\n",
       "      <th></th>\n",
       "    </tr>\n",
       "  </thead>\n",
       "  <tbody>\n",
       "    <tr>\n",
       "      <th>2024-11-15</th>\n",
       "      <td>61.74</td>\n",
       "      <td>62.630</td>\n",
       "      <td>61.3900</td>\n",
       "      <td>216302</td>\n",
       "      <td>62.49</td>\n",
       "      <td>26204290</td>\n",
       "      <td>61.746808</td>\n",
       "      <td>64.58365</td>\n",
       "      <td>-2.84365</td>\n",
       "    </tr>\n",
       "    <tr>\n",
       "      <th>2024-11-18</th>\n",
       "      <td>61.86</td>\n",
       "      <td>62.140</td>\n",
       "      <td>61.5600</td>\n",
       "      <td>137407</td>\n",
       "      <td>61.85</td>\n",
       "      <td>16079364</td>\n",
       "      <td>61.890968</td>\n",
       "      <td>64.59025</td>\n",
       "      <td>-2.73025</td>\n",
       "    </tr>\n",
       "    <tr>\n",
       "      <th>2024-11-14</th>\n",
       "      <td>62.55</td>\n",
       "      <td>63.110</td>\n",
       "      <td>62.4300</td>\n",
       "      <td>153715</td>\n",
       "      <td>63.11</td>\n",
       "      <td>15910820</td>\n",
       "      <td>62.680813</td>\n",
       "      <td>64.57985</td>\n",
       "      <td>-2.02985</td>\n",
       "    </tr>\n",
       "    <tr>\n",
       "      <th>2024-11-19</th>\n",
       "      <td>62.59</td>\n",
       "      <td>62.620</td>\n",
       "      <td>61.6300</td>\n",
       "      <td>142412</td>\n",
       "      <td>61.90</td>\n",
       "      <td>16250116</td>\n",
       "      <td>62.268566</td>\n",
       "      <td>64.60300</td>\n",
       "      <td>-2.01300</td>\n",
       "    </tr>\n",
       "    <tr>\n",
       "      <th>2024-11-20</th>\n",
       "      <td>62.90</td>\n",
       "      <td>62.910</td>\n",
       "      <td>62.0200</td>\n",
       "      <td>99478</td>\n",
       "      <td>62.70</td>\n",
       "      <td>7431902</td>\n",
       "      <td>62.510931</td>\n",
       "      <td>64.61780</td>\n",
       "      <td>-1.71780</td>\n",
       "    </tr>\n",
       "    <tr>\n",
       "      <th>2024-11-13</th>\n",
       "      <td>63.00</td>\n",
       "      <td>63.260</td>\n",
       "      <td>62.4900</td>\n",
       "      <td>129589</td>\n",
       "      <td>63.05</td>\n",
       "      <td>13177637</td>\n",
       "      <td>62.958579</td>\n",
       "      <td>64.56455</td>\n",
       "      <td>-1.56455</td>\n",
       "    </tr>\n",
       "    <tr>\n",
       "      <th>2024-11-12</th>\n",
       "      <td>63.20</td>\n",
       "      <td>63.750</td>\n",
       "      <td>63.1200</td>\n",
       "      <td>144222</td>\n",
       "      <td>63.68</td>\n",
       "      <td>15020975</td>\n",
       "      <td>63.348218</td>\n",
       "      <td>64.54905</td>\n",
       "      <td>-1.34905</td>\n",
       "    </tr>\n",
       "    <tr>\n",
       "      <th>2024-11-11</th>\n",
       "      <td>63.36</td>\n",
       "      <td>64.120</td>\n",
       "      <td>63.2509</td>\n",
       "      <td>158956</td>\n",
       "      <td>63.99</td>\n",
       "      <td>13980873</td>\n",
       "      <td>63.595594</td>\n",
       "      <td>64.53170</td>\n",
       "      <td>-1.17170</td>\n",
       "    </tr>\n",
       "    <tr>\n",
       "      <th>2024-04-16</th>\n",
       "      <td>58.06</td>\n",
       "      <td>58.380</td>\n",
       "      <td>57.9300</td>\n",
       "      <td>128291</td>\n",
       "      <td>58.25</td>\n",
       "      <td>11236839</td>\n",
       "      <td>58.133096</td>\n",
       "      <td>58.96215</td>\n",
       "      <td>-0.90215</td>\n",
       "    </tr>\n",
       "    <tr>\n",
       "      <th>2024-04-15</th>\n",
       "      <td>58.14</td>\n",
       "      <td>58.805</td>\n",
       "      <td>58.0400</td>\n",
       "      <td>141531</td>\n",
       "      <td>58.61</td>\n",
       "      <td>12425049</td>\n",
       "      <td>58.340817</td>\n",
       "      <td>58.97195</td>\n",
       "      <td>-0.83195</td>\n",
       "    </tr>\n",
       "    <tr>\n",
       "      <th>2024-11-07</th>\n",
       "      <td>63.66</td>\n",
       "      <td>64.390</td>\n",
       "      <td>63.6000</td>\n",
       "      <td>195427</td>\n",
       "      <td>64.29</td>\n",
       "      <td>14856051</td>\n",
       "      <td>63.816896</td>\n",
       "      <td>64.48795</td>\n",
       "      <td>-0.82795</td>\n",
       "    </tr>\n",
       "    <tr>\n",
       "      <th>2024-11-06</th>\n",
       "      <td>63.70</td>\n",
       "      <td>64.860</td>\n",
       "      <td>63.1800</td>\n",
       "      <td>294425</td>\n",
       "      <td>64.42</td>\n",
       "      <td>22899263</td>\n",
       "      <td>63.717844</td>\n",
       "      <td>64.46420</td>\n",
       "      <td>-0.76420</td>\n",
       "    </tr>\n",
       "    <tr>\n",
       "      <th>2024-04-12</th>\n",
       "      <td>58.28</td>\n",
       "      <td>59.010</td>\n",
       "      <td>58.1300</td>\n",
       "      <td>134197</td>\n",
       "      <td>58.95</td>\n",
       "      <td>12249160</td>\n",
       "      <td>58.424462</td>\n",
       "      <td>58.98385</td>\n",
       "      <td>-0.70385</td>\n",
       "    </tr>\n",
       "    <tr>\n",
       "      <th>2024-01-24</th>\n",
       "      <td>58.91</td>\n",
       "      <td>59.810</td>\n",
       "      <td>58.8900</td>\n",
       "      <td>134332</td>\n",
       "      <td>59.80</td>\n",
       "      <td>16370484</td>\n",
       "      <td>59.241983</td>\n",
       "      <td>59.60965</td>\n",
       "      <td>-0.69965</td>\n",
       "    </tr>\n",
       "    <tr>\n",
       "      <th>2024-11-08</th>\n",
       "      <td>63.92</td>\n",
       "      <td>64.240</td>\n",
       "      <td>63.7400</td>\n",
       "      <td>172911</td>\n",
       "      <td>63.91</td>\n",
       "      <td>14717911</td>\n",
       "      <td>63.990591</td>\n",
       "      <td>64.51175</td>\n",
       "      <td>-0.59175</td>\n",
       "    </tr>\n",
       "    <tr>\n",
       "      <th>2024-04-17</th>\n",
       "      <td>58.51</td>\n",
       "      <td>58.555</td>\n",
       "      <td>58.1000</td>\n",
       "      <td>129409</td>\n",
       "      <td>58.28</td>\n",
       "      <td>13805068</td>\n",
       "      <td>58.378984</td>\n",
       "      <td>58.95360</td>\n",
       "      <td>-0.44360</td>\n",
       "    </tr>\n",
       "    <tr>\n",
       "      <th>2024-01-25</th>\n",
       "      <td>59.16</td>\n",
       "      <td>59.170</td>\n",
       "      <td>58.6600</td>\n",
       "      <td>128352</td>\n",
       "      <td>59.01</td>\n",
       "      <td>14899712</td>\n",
       "      <td>58.988842</td>\n",
       "      <td>59.59200</td>\n",
       "      <td>-0.43200</td>\n",
       "    </tr>\n",
       "    <tr>\n",
       "      <th>2024-01-26</th>\n",
       "      <td>59.37</td>\n",
       "      <td>59.490</td>\n",
       "      <td>59.1250</td>\n",
       "      <td>109480</td>\n",
       "      <td>59.25</td>\n",
       "      <td>13025072</td>\n",
       "      <td>59.334764</td>\n",
       "      <td>59.57595</td>\n",
       "      <td>-0.20595</td>\n",
       "    </tr>\n",
       "    <tr>\n",
       "      <th>2024-04-10</th>\n",
       "      <td>58.92</td>\n",
       "      <td>59.390</td>\n",
       "      <td>58.6900</td>\n",
       "      <td>138954</td>\n",
       "      <td>59.32</td>\n",
       "      <td>11861881</td>\n",
       "      <td>58.917132</td>\n",
       "      <td>59.00875</td>\n",
       "      <td>-0.08875</td>\n",
       "    </tr>\n",
       "    <tr>\n",
       "      <th>2024-02-14</th>\n",
       "      <td>59.29</td>\n",
       "      <td>59.590</td>\n",
       "      <td>59.0350</td>\n",
       "      <td>147078</td>\n",
       "      <td>59.17</td>\n",
       "      <td>15872453</td>\n",
       "      <td>59.258362</td>\n",
       "      <td>59.33375</td>\n",
       "      <td>-0.04375</td>\n",
       "    </tr>\n",
       "  </tbody>\n",
       "</table>\n",
       "</div>"
      ],
      "text/plain": [
       "            close    high      low  trade_count   open    volume       vwap  \\\n",
       "date                                                                          \n",
       "2024-11-15  61.74  62.630  61.3900       216302  62.49  26204290  61.746808   \n",
       "2024-11-18  61.86  62.140  61.5600       137407  61.85  16079364  61.890968   \n",
       "2024-11-14  62.55  63.110  62.4300       153715  63.11  15910820  62.680813   \n",
       "2024-11-19  62.59  62.620  61.6300       142412  61.90  16250116  62.268566   \n",
       "2024-11-20  62.90  62.910  62.0200        99478  62.70   7431902  62.510931   \n",
       "2024-11-13  63.00  63.260  62.4900       129589  63.05  13177637  62.958579   \n",
       "2024-11-12  63.20  63.750  63.1200       144222  63.68  15020975  63.348218   \n",
       "2024-11-11  63.36  64.120  63.2509       158956  63.99  13980873  63.595594   \n",
       "2024-04-16  58.06  58.380  57.9300       128291  58.25  11236839  58.133096   \n",
       "2024-04-15  58.14  58.805  58.0400       141531  58.61  12425049  58.340817   \n",
       "2024-11-07  63.66  64.390  63.6000       195427  64.29  14856051  63.816896   \n",
       "2024-11-06  63.70  64.860  63.1800       294425  64.42  22899263  63.717844   \n",
       "2024-04-12  58.28  59.010  58.1300       134197  58.95  12249160  58.424462   \n",
       "2024-01-24  58.91  59.810  58.8900       134332  59.80  16370484  59.241983   \n",
       "2024-11-08  63.92  64.240  63.7400       172911  63.91  14717911  63.990591   \n",
       "2024-04-17  58.51  58.555  58.1000       129409  58.28  13805068  58.378984   \n",
       "2024-01-25  59.16  59.170  58.6600       128352  59.01  14899712  58.988842   \n",
       "2024-01-26  59.37  59.490  59.1250       109480  59.25  13025072  59.334764   \n",
       "2024-04-10  58.92  59.390  58.6900       138954  59.32  11861881  58.917132   \n",
       "2024-02-14  59.29  59.590  59.0350       147078  59.17  15872453  59.258362   \n",
       "\n",
       "            200 day SMA  close - 200 day SMA  \n",
       "date                                          \n",
       "2024-11-15     64.58365             -2.84365  \n",
       "2024-11-18     64.59025             -2.73025  \n",
       "2024-11-14     64.57985             -2.02985  \n",
       "2024-11-19     64.60300             -2.01300  \n",
       "2024-11-20     64.61780             -1.71780  \n",
       "2024-11-13     64.56455             -1.56455  \n",
       "2024-11-12     64.54905             -1.34905  \n",
       "2024-11-11     64.53170             -1.17170  \n",
       "2024-04-16     58.96215             -0.90215  \n",
       "2024-04-15     58.97195             -0.83195  \n",
       "2024-11-07     64.48795             -0.82795  \n",
       "2024-11-06     64.46420             -0.76420  \n",
       "2024-04-12     58.98385             -0.70385  \n",
       "2024-01-24     59.60965             -0.69965  \n",
       "2024-11-08     64.51175             -0.59175  \n",
       "2024-04-17     58.95360             -0.44360  \n",
       "2024-01-25     59.59200             -0.43200  \n",
       "2024-01-26     59.57595             -0.20595  \n",
       "2024-04-10     59.00875             -0.08875  \n",
       "2024-02-14     59.33375             -0.04375  "
      ]
     },
     "execution_count": 457,
     "metadata": {},
     "output_type": "execute_result"
    }
   ],
   "source": [
    "ticker = 'KO'\n",
    "bars = bars_last_n_weeks(ticker, 85)\n",
    "bars = add_SMA(bars, 200)\n",
    "print(SMA_slope(bars, 200))\n",
    "display(bars)\n",
    "bars.sort_values('close - 200 day SMA').head(20)"
   ]
  },
  {
   "cell_type": "code",
   "execution_count": 458,
   "metadata": {},
   "outputs": [
    {
     "name": "stdout",
     "output_type": "stream",
     "text": [
      "0.010649999999998272\n",
      "0.0001693029170971826\n",
      "0.06179556474047165\n"
     ]
    }
   ],
   "source": [
    "print(SMA_slope(bars, 200))\n",
    "slope = SMA_slope(bars, 200)\n",
    "latest_trade = api.get_latest_trade(ticker)\n",
    "current_price = latest_trade.p\n",
    "print(slope / current_price)\n",
    "print(slope / current_price * 365)"
   ]
  },
  {
   "cell_type": "code",
   "execution_count": 459,
   "metadata": {},
   "outputs": [
    {
     "data": {
      "image/png": "[encoded data removed]",
      "text/plain": [
       "<Figure size 640x480 with 1 Axes>"
      ]
     },
     "metadata": {},
     "output_type": "display_data"
    },
    {
     "data": {
      "text/plain": [
       "<Figure size 640x480 with 0 Axes>"
      ]
     },
     "metadata": {},
     "output_type": "display_data"
    }
   ],
   "source": [
    "plt.plot(bars['close - 200 day SMA'])\n",
    "plt.show()\n",
    "plt.clf()"
   ]
  },
  {
   "cell_type": "code",
   "execution_count": 460,
   "metadata": {},
   "outputs": [
    {
     "name": "stdout",
     "output_type": "stream",
     "text": [
      "3.210000000000022\n",
      "1.087601615449604\n",
      "-0.6730857142857373\n",
      "64.61780000000003\n"
     ]
    },
    {
     "data": {
      "text/html": [
       "<div>\n",
       "<style scoped>\n",
       "    .dataframe tbody tr th:only-of-type {\n",
       "        vertical-align: middle;\n",
       "    }\n",
       "\n",
       "    .dataframe tbody tr th {\n",
       "        vertical-align: top;\n",
       "    }\n",
       "\n",
       "    .dataframe thead th {\n",
       "        text-align: right;\n",
       "    }\n",
       "</style>\n",
       "<table border=\"1\" class=\"dataframe\">\n",
       "  <thead>\n",
       "    <tr style=\"text-align: right;\">\n",
       "      <th></th>\n",
       "      <th>close</th>\n",
       "      <th>high</th>\n",
       "      <th>low</th>\n",
       "      <th>trade_count</th>\n",
       "      <th>open</th>\n",
       "      <th>volume</th>\n",
       "      <th>vwap</th>\n",
       "      <th>200 day SMA</th>\n",
       "      <th>close - 200 day SMA</th>\n",
       "    </tr>\n",
       "    <tr>\n",
       "      <th>date</th>\n",
       "      <th></th>\n",
       "      <th></th>\n",
       "      <th></th>\n",
       "      <th></th>\n",
       "      <th></th>\n",
       "      <th></th>\n",
       "      <th></th>\n",
       "      <th></th>\n",
       "      <th></th>\n",
       "    </tr>\n",
       "  </thead>\n",
       "  <tbody>\n",
       "    <tr>\n",
       "      <th>2024-01-24</th>\n",
       "      <td>58.91</td>\n",
       "      <td>59.81</td>\n",
       "      <td>58.890</td>\n",
       "      <td>134332</td>\n",
       "      <td>59.80</td>\n",
       "      <td>16370484</td>\n",
       "      <td>59.241983</td>\n",
       "      <td>59.60965</td>\n",
       "      <td>-0.69965</td>\n",
       "    </tr>\n",
       "    <tr>\n",
       "      <th>2024-02-14</th>\n",
       "      <td>59.29</td>\n",
       "      <td>59.59</td>\n",
       "      <td>59.035</td>\n",
       "      <td>147078</td>\n",
       "      <td>59.17</td>\n",
       "      <td>15872453</td>\n",
       "      <td>59.258362</td>\n",
       "      <td>59.33375</td>\n",
       "      <td>-0.04375</td>\n",
       "    </tr>\n",
       "    <tr>\n",
       "      <th>2024-03-07</th>\n",
       "      <td>59.44</td>\n",
       "      <td>59.77</td>\n",
       "      <td>59.240</td>\n",
       "      <td>120821</td>\n",
       "      <td>59.69</td>\n",
       "      <td>13686859</td>\n",
       "      <td>59.415334</td>\n",
       "      <td>59.07365</td>\n",
       "      <td>0.36635</td>\n",
       "    </tr>\n",
       "    <tr>\n",
       "      <th>2024-04-08</th>\n",
       "      <td>59.27</td>\n",
       "      <td>59.47</td>\n",
       "      <td>59.070</td>\n",
       "      <td>126002</td>\n",
       "      <td>59.40</td>\n",
       "      <td>10284535</td>\n",
       "      <td>59.266136</td>\n",
       "      <td>59.03080</td>\n",
       "      <td>0.23920</td>\n",
       "    </tr>\n",
       "    <tr>\n",
       "      <th>2024-04-16</th>\n",
       "      <td>58.06</td>\n",
       "      <td>58.38</td>\n",
       "      <td>57.930</td>\n",
       "      <td>128291</td>\n",
       "      <td>58.25</td>\n",
       "      <td>11236839</td>\n",
       "      <td>58.133096</td>\n",
       "      <td>58.96215</td>\n",
       "      <td>-0.90215</td>\n",
       "    </tr>\n",
       "    <tr>\n",
       "      <th>2024-11-07</th>\n",
       "      <td>63.66</td>\n",
       "      <td>64.39</td>\n",
       "      <td>63.600</td>\n",
       "      <td>195427</td>\n",
       "      <td>64.29</td>\n",
       "      <td>14856051</td>\n",
       "      <td>63.816896</td>\n",
       "      <td>64.48795</td>\n",
       "      <td>-0.82795</td>\n",
       "    </tr>\n",
       "    <tr>\n",
       "      <th>2024-11-15</th>\n",
       "      <td>61.74</td>\n",
       "      <td>62.63</td>\n",
       "      <td>61.390</td>\n",
       "      <td>216302</td>\n",
       "      <td>62.49</td>\n",
       "      <td>26204290</td>\n",
       "      <td>61.746808</td>\n",
       "      <td>64.58365</td>\n",
       "      <td>-2.84365</td>\n",
       "    </tr>\n",
       "  </tbody>\n",
       "</table>\n",
       "</div>"
      ],
      "text/plain": [
       "            close   high     low  trade_count   open    volume       vwap  \\\n",
       "date                                                                        \n",
       "2024-01-24  58.91  59.81  58.890       134332  59.80  16370484  59.241983   \n",
       "2024-02-14  59.29  59.59  59.035       147078  59.17  15872453  59.258362   \n",
       "2024-03-07  59.44  59.77  59.240       120821  59.69  13686859  59.415334   \n",
       "2024-04-08  59.27  59.47  59.070       126002  59.40  10284535  59.266136   \n",
       "2024-04-16  58.06  58.38  57.930       128291  58.25  11236839  58.133096   \n",
       "2024-11-07  63.66  64.39  63.600       195427  64.29  14856051  63.816896   \n",
       "2024-11-15  61.74  62.63  61.390       216302  62.49  26204290  61.746808   \n",
       "\n",
       "            200 day SMA  close - 200 day SMA  \n",
       "date                                          \n",
       "2024-01-24     59.60965             -0.69965  \n",
       "2024-02-14     59.33375             -0.04375  \n",
       "2024-03-07     59.07365              0.36635  \n",
       "2024-04-08     59.03080              0.23920  \n",
       "2024-04-16     58.96215             -0.90215  \n",
       "2024-11-07     64.48795             -0.82795  \n",
       "2024-11-15     64.58365             -2.84365  "
      ]
     },
     "execution_count": 460,
     "metadata": {},
     "output_type": "execute_result"
    }
   ],
   "source": [
    "troughs = get_troughs(bars, 7, 5)\n",
    "troughs_range = troughs['close - 200 day SMA'].max() - troughs['close - 200 day SMA'].min()\n",
    "troughs_std = troughs['close - 200 day SMA'].std()\n",
    "troughs_mean = troughs['close - 200 day SMA'].mean()\n",
    "print(troughs_range)\n",
    "print(troughs_std)\n",
    "print(troughs_mean)\n",
    "print(bars.iloc[-1]['200 day SMA'])\n",
    "troughs"
   ]
  },
  {
   "cell_type": "code",
   "execution_count": null,
   "metadata": {},
   "outputs": [],
   "source": []
  },
  {
   "cell_type": "code",
   "execution_count": null,
   "metadata": {},
   "outputs": [],
   "source": []
  },
  {
   "cell_type": "code",
   "execution_count": null,
   "metadata": {},
   "outputs": [],
   "source": []
  },
  {
   "cell_type": "code",
   "execution_count": null,
   "metadata": {},
   "outputs": [],
   "source": []
  }
 ],
 "metadata": {
  "kernelspec": {
   "display_name": "Python 3",
   "language": "python",
   "name": "python3"
  },
  "language_info": {
   "codemirror_mode": {
    "name": "ipython",
    "version": 3
   },
   "file_extension": ".py",
   "mimetype": "text/x-python",
   "name": "python",
   "nbconvert_exporter": "python",
   "pygments_lexer": "ipython3",
   "version": "3.12.0"
  }
 },
 "nbformat": 4,
 "nbformat_minor": 2
}
